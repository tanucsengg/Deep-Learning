{
  "nbformat": 4,
  "nbformat_minor": 0,
  "metadata": {
    "colab": {
      "name": "03_Predict Fuel Efficiency.ipynb",
      "provenance": [],
      "collapsed_sections": [],
      "include_colab_link": true
    },
    "kernelspec": {
      "display_name": "Python 3",
      "name": "python3"
    },
    "accelerator": "GPU"
  },
  "cells": [
    {
      "cell_type": "markdown",
      "metadata": {
        "id": "view-in-github",
        "colab_type": "text"
      },
      "source": [
        "<a href=\"https://colab.research.google.com/github/tanucsengg/Deep-Learning/blob/main/03_Predict_Fuel_Efficiency.ipynb\" target=\"_parent\"><img src=\"https://colab.research.google.com/assets/colab-badge.svg\" alt=\"Open In Colab\"/></a>"
      ]
    },
    {
      "cell_type": "markdown",
      "metadata": {
        "id": "NRRJxiMRL9Op"
      },
      "source": [
        "### Table of Content\n",
        "\n",
        "1. [Predict Fuel Efficiency Overview](#section1)<br>\n",
        "2. [The Auto MPG Dataset](#section2)<br>\n",
        "  - 2.1 [Get the Data](#section201)<br>\n",
        "  - 2.2 [Clean the Data](#section202)<br>\n",
        "  - 2.3 [Split the Data into Train and Test](#section203)<br>\n",
        "  - 2.4 [Inspect the Data](#section204)<br>\n",
        "  - 2.5 [Split Features from Labels](#section205)<br>\n",
        "  - 2.6 [Normalize the Data](#section206)<br>\n",
        "3. [The Model](#section3)<br>\n",
        "  - 3.1 [Build the Model](#section301)<br>\n",
        "  - 3.2 [Inspect the Model](#section302)<br>\n",
        "  - 3.3 [Train the Model](#section303)<br>\n",
        "  - 3.4 [Make Predictions](#section304)<br>\n",
        "4. [Model Tuning](#section4)<br>\n",
        "  - 4.1 [Increasing the Number of Hidden Layers and Hidden Units](#section401)<br>\n",
        "  - 4.2 [Weight Regularization](#section402)<br>\n",
        "  - 4.3 [Dropout](#section403)<br>\n",
        "  - 4.4 [Combined L2 + Dropout](#section404)<br>\n",
        "  - 4.5 [Batch Normalization](#section405)<br>\n",
        "5. [Conclusion](#section5)<br>"
      ]
    },
    {
      "cell_type": "markdown",
      "metadata": {
        "id": "EIdT9iu_Z4Rb"
      },
      "source": [
        "<a id=section1></a>\n",
        "## 1. Predict Fuel Efficiency Overview"
      ]
    },
    {
      "cell_type": "markdown",
      "metadata": {
        "id": "AHp3M9ZmrIxj"
      },
      "source": [
        "- We will use the [Auto MPG](https://archive.ics.uci.edu/ml/datasets/auto+mpg) Dataset and build a model to predict the fuel efficiency of late-1970s and early 1980s automobiles.\n",
        "\n",
        "- To do this, we'll provide the model with a description of many automobiles from that time period.\n",
        "\n",
        "  - This description includes attributes like: cylinders, displacement, horsepower, and weight."
      ]
    },
    {
      "cell_type": "markdown",
      "metadata": {
        "id": "FhDnt1nZPGcK"
      },
      "source": [
        "<center><img src=\"https://raw.githubusercontent.com/insaid2018/DeepLearning/master/images/fuel-efficiency.png\" width=\"500\" /></center>"
      ]
    },
    {
      "cell_type": "code",
      "metadata": {
        "id": "moB4tpEHxKB3",
        "colab": {
          "base_uri": "https://localhost:8080/",
          "height": 306
        },
        "outputId": "803e9e79-ae87-4e1a-f98d-a73a9fe6d07e"
      },
      "source": [
        "# To use some functions from tensorflow_docs\n",
        "!pip install git+https://github.com/tensorflow/docs"
      ],
      "execution_count": null,
      "outputs": [
        {
          "output_type": "stream",
          "text": [
            "Collecting git+https://github.com/tensorflow/docs\n",
            "  Cloning https://github.com/tensorflow/docs to /tmp/pip-req-build-d71iltz3\n",
            "  Running command git clone -q https://github.com/tensorflow/docs /tmp/pip-req-build-d71iltz3\n",
            "Requirement already satisfied: astor in /usr/local/lib/python3.6/dist-packages (from tensorflow-docs===0.0.03dca32f59ff76a1fed82f5e799a4dc38e498b7c6-) (0.8.1)\n",
            "Requirement already satisfied: absl-py in /usr/local/lib/python3.6/dist-packages (from tensorflow-docs===0.0.03dca32f59ff76a1fed82f5e799a4dc38e498b7c6-) (0.8.1)\n",
            "Requirement already satisfied: protobuf in /usr/local/lib/python3.6/dist-packages (from tensorflow-docs===0.0.03dca32f59ff76a1fed82f5e799a4dc38e498b7c6-) (3.12.4)\n",
            "Requirement already satisfied: pyyaml in /usr/local/lib/python3.6/dist-packages (from tensorflow-docs===0.0.03dca32f59ff76a1fed82f5e799a4dc38e498b7c6-) (3.13)\n",
            "Requirement already satisfied: six in /usr/local/lib/python3.6/dist-packages (from absl-py->tensorflow-docs===0.0.03dca32f59ff76a1fed82f5e799a4dc38e498b7c6-) (1.15.0)\n",
            "Requirement already satisfied: setuptools in /usr/local/lib/python3.6/dist-packages (from protobuf->tensorflow-docs===0.0.03dca32f59ff76a1fed82f5e799a4dc38e498b7c6-) (49.6.0)\n",
            "Building wheels for collected packages: tensorflow-docs\n",
            "  Building wheel for tensorflow-docs (setup.py) ... \u001b[?25l\u001b[?25hdone\n",
            "  Created wheel for tensorflow-docs: filename=tensorflow_docs-0.0.03dca32f59ff76a1fed82f5e799a4dc38e498b7c6_-cp36-none-any.whl size=139262 sha256=d1563ebba2eb900e475dee2a9a19707b80b31771289d7025f8cb2ab6b8633b66\n",
            "  Stored in directory: /tmp/pip-ephem-wheel-cache-ab3ydbtm/wheels/eb/1b/35/fce87697be00d2fc63e0b4b395b0d9c7e391a10e98d9a0d97f\n",
            "Successfully built tensorflow-docs\n",
            "Installing collected packages: tensorflow-docs\n",
            "Successfully installed tensorflow-docs-0.0.03dca32f59ff76a1fed82f5e799a4dc38e498b7c6-\n"
          ],
          "name": "stdout"
        }
      ]
    },
    {
      "cell_type": "code",
      "metadata": {
        "id": "1rRo8oNqZ-Rj"
      },
      "source": [
        "import pathlib\n",
        "\n",
        "import numpy as np\n",
        "import pandas as pd\n",
        "\n",
        "import matplotlib.pyplot as plt\n",
        "%matplotlib inline\n",
        "\n",
        "import seaborn as sns"
      ],
      "execution_count": null,
      "outputs": []
    },
    {
      "cell_type": "code",
      "metadata": {
        "id": "OU_nxQFGP98H"
      },
      "source": [
        "# Import tensorflow 2.x\n",
        "# This code block will only work in Google Colab.\n",
        "try:\n",
        "    # %tensorflow_version only exists in Colab.\n",
        "    %tensorflow_version 2.x\n",
        "except Exception:\n",
        "    pass"
      ],
      "execution_count": null,
      "outputs": []
    },
    {
      "cell_type": "code",
      "metadata": {
        "id": "9xQKvCJ85kCQ",
        "colab": {
          "base_uri": "https://localhost:8080/",
          "height": 34
        },
        "outputId": "2ac3921c-0613-4138-e693-7490dbe1f1b3"
      },
      "source": [
        "import tensorflow as tf\n",
        "\n",
        "from tensorflow import keras\n",
        "from tensorflow.keras import layers\n",
        "\n",
        "print(tf.__version__)"
      ],
      "execution_count": null,
      "outputs": [
        {
          "output_type": "stream",
          "text": [
            "2.3.0\n"
          ],
          "name": "stdout"
        }
      ]
    },
    {
      "cell_type": "code",
      "metadata": {
        "id": "Qz4HfsgRQUiV"
      },
      "source": [
        "import tensorflow_docs as tfdocs\n",
        "import tensorflow_docs.plots\n",
        "import tensorflow_docs.modeling"
      ],
      "execution_count": null,
      "outputs": []
    },
    {
      "cell_type": "markdown",
      "metadata": {
        "id": "F_72b0LCNbjx"
      },
      "source": [
        "<a id=section2></a>\n",
        "## 2. The Auto MPG Dataset\n",
        "\n",
        "The dataset is available on the [UCI Machine Learning Repository](https://archive.ics.uci.edu/ml/).\n"
      ]
    },
    {
      "cell_type": "markdown",
      "metadata": {
        "id": "gFh9ne3FZ-On"
      },
      "source": [
        "<a id=section201></a>\n",
        "### 2.1 Get the Data\n",
        "\n",
        "- First download the dataset."
      ]
    },
    {
      "cell_type": "code",
      "metadata": {
        "id": "p9kxxgzvzlyz",
        "colab": {
          "base_uri": "https://localhost:8080/",
          "height": 69
        },
        "outputId": "cf7da58a-ba5d-43c4-89bc-a4426ad3e186"
      },
      "source": [
        "dataset_path = keras.utils.get_file(\"auto-mpg.data\", \"http://archive.ics.uci.edu/ml/machine-learning-databases/auto-mpg/auto-mpg.data\")\n",
        "dataset_path"
      ],
      "execution_count": null,
      "outputs": [
        {
          "output_type": "stream",
          "text": [
            "Downloading data from http://archive.ics.uci.edu/ml/machine-learning-databases/auto-mpg/auto-mpg.data\n",
            "32768/30286 [================================] - 0s 1us/step\n"
          ],
          "name": "stdout"
        },
        {
          "output_type": "execute_result",
          "data": {
            "application/vnd.google.colaboratory.intrinsic+json": {
              "type": "string"
            },
            "text/plain": [
              "'/root/.keras/datasets/auto-mpg.data'"
            ]
          },
          "metadata": {
            "tags": []
          },
          "execution_count": 6
        }
      ]
    },
    {
      "cell_type": "markdown",
      "metadata": {
        "id": "nslsRLh7Zss4"
      },
      "source": [
        "- Import it using pandas."
      ]
    },
    {
      "cell_type": "code",
      "metadata": {
        "id": "NMLT4mAkRFWu"
      },
      "source": [
        "column_names = ['MPG','Cylinders','Displacement','Horsepower','Weight', 'Acceleration', 'Model Year', 'Origin']"
      ],
      "execution_count": null,
      "outputs": []
    },
    {
      "cell_type": "code",
      "metadata": {
        "id": "CiX2FI4gZtTt",
        "colab": {
          "base_uri": "https://localhost:8080/",
          "height": 195
        },
        "outputId": "e0c83470-1ddc-4298-af27-6a2937add54e"
      },
      "source": [
        "dataset = pd.read_csv(dataset_path, names=column_names, na_values=\"?\", comment='\\t', sep=\" \", skipinitialspace=True)\n",
        "dataset.head()"
      ],
      "execution_count": null,
      "outputs": [
        {
          "output_type": "execute_result",
          "data": {
            "text/html": [
              "<div>\n",
              "<style scoped>\n",
              "    .dataframe tbody tr th:only-of-type {\n",
              "        vertical-align: middle;\n",
              "    }\n",
              "\n",
              "    .dataframe tbody tr th {\n",
              "        vertical-align: top;\n",
              "    }\n",
              "\n",
              "    .dataframe thead th {\n",
              "        text-align: right;\n",
              "    }\n",
              "</style>\n",
              "<table border=\"1\" class=\"dataframe\">\n",
              "  <thead>\n",
              "    <tr style=\"text-align: right;\">\n",
              "      <th></th>\n",
              "      <th>MPG</th>\n",
              "      <th>Cylinders</th>\n",
              "      <th>Displacement</th>\n",
              "      <th>Horsepower</th>\n",
              "      <th>Weight</th>\n",
              "      <th>Acceleration</th>\n",
              "      <th>Model Year</th>\n",
              "      <th>Origin</th>\n",
              "    </tr>\n",
              "  </thead>\n",
              "  <tbody>\n",
              "    <tr>\n",
              "      <th>0</th>\n",
              "      <td>18.0</td>\n",
              "      <td>8</td>\n",
              "      <td>307.0</td>\n",
              "      <td>130.0</td>\n",
              "      <td>3504.0</td>\n",
              "      <td>12.0</td>\n",
              "      <td>70</td>\n",
              "      <td>1</td>\n",
              "    </tr>\n",
              "    <tr>\n",
              "      <th>1</th>\n",
              "      <td>15.0</td>\n",
              "      <td>8</td>\n",
              "      <td>350.0</td>\n",
              "      <td>165.0</td>\n",
              "      <td>3693.0</td>\n",
              "      <td>11.5</td>\n",
              "      <td>70</td>\n",
              "      <td>1</td>\n",
              "    </tr>\n",
              "    <tr>\n",
              "      <th>2</th>\n",
              "      <td>18.0</td>\n",
              "      <td>8</td>\n",
              "      <td>318.0</td>\n",
              "      <td>150.0</td>\n",
              "      <td>3436.0</td>\n",
              "      <td>11.0</td>\n",
              "      <td>70</td>\n",
              "      <td>1</td>\n",
              "    </tr>\n",
              "    <tr>\n",
              "      <th>3</th>\n",
              "      <td>16.0</td>\n",
              "      <td>8</td>\n",
              "      <td>304.0</td>\n",
              "      <td>150.0</td>\n",
              "      <td>3433.0</td>\n",
              "      <td>12.0</td>\n",
              "      <td>70</td>\n",
              "      <td>1</td>\n",
              "    </tr>\n",
              "    <tr>\n",
              "      <th>4</th>\n",
              "      <td>17.0</td>\n",
              "      <td>8</td>\n",
              "      <td>302.0</td>\n",
              "      <td>140.0</td>\n",
              "      <td>3449.0</td>\n",
              "      <td>10.5</td>\n",
              "      <td>70</td>\n",
              "      <td>1</td>\n",
              "    </tr>\n",
              "  </tbody>\n",
              "</table>\n",
              "</div>"
            ],
            "text/plain": [
              "    MPG  Cylinders  Displacement  ...  Acceleration  Model Year  Origin\n",
              "0  18.0          8         307.0  ...          12.0          70       1\n",
              "1  15.0          8         350.0  ...          11.5          70       1\n",
              "2  18.0          8         318.0  ...          11.0          70       1\n",
              "3  16.0          8         304.0  ...          12.0          70       1\n",
              "4  17.0          8         302.0  ...          10.5          70       1\n",
              "\n",
              "[5 rows x 8 columns]"
            ]
          },
          "metadata": {
            "tags": []
          },
          "execution_count": 8
        }
      ]
    },
    {
      "cell_type": "markdown",
      "metadata": {
        "id": "n6bX_DVuQmnV"
      },
      "source": [
        "- The data concerns city-cycle fuel consumption in **miles per gallon**, to be predicted in terms of **3 multivalued discrete** and **4 continuous** attributes."
      ]
    },
    {
      "cell_type": "markdown",
      "metadata": {
        "id": "3MWuJTKEDM-f"
      },
      "source": [
        "<a id=section202></a>\n",
        "### 2.2 Clean the Data\n",
        "\n",
        "- The dataset contains a few unknown values."
      ]
    },
    {
      "cell_type": "code",
      "metadata": {
        "id": "JEJHhN65a2VV",
        "colab": {
          "base_uri": "https://localhost:8080/",
          "height": 168
        },
        "outputId": "0499c84b-72e1-4428-cf0f-a77faad47f8c"
      },
      "source": [
        "dataset.isna().sum()"
      ],
      "execution_count": null,
      "outputs": [
        {
          "output_type": "execute_result",
          "data": {
            "text/plain": [
              "MPG             0\n",
              "Cylinders       0\n",
              "Displacement    0\n",
              "Horsepower      6\n",
              "Weight          0\n",
              "Acceleration    0\n",
              "Model Year      0\n",
              "Origin          0\n",
              "dtype: int64"
            ]
          },
          "metadata": {
            "tags": []
          },
          "execution_count": 9
        }
      ]
    },
    {
      "cell_type": "markdown",
      "metadata": {
        "id": "9UPN0KBHa_WI"
      },
      "source": [
        "- Dropping these rows."
      ]
    },
    {
      "cell_type": "code",
      "metadata": {
        "id": "4ZUDosChC1UN"
      },
      "source": [
        "dataset = dataset.dropna()"
      ],
      "execution_count": null,
      "outputs": []
    },
    {
      "cell_type": "markdown",
      "metadata": {
        "id": "8XKitwaH4v8h"
      },
      "source": [
        "- The `\"Origin\"` column is categorical, not numeric.\n",
        "\n",
        "- Converting that to a one-hot:"
      ]
    },
    {
      "cell_type": "code",
      "metadata": {
        "id": "gWNTD2QjBWFJ"
      },
      "source": [
        "dataset['Origin'] = dataset['Origin'].map({1: 'USA', 2: 'Europe', 3: 'Japan'})"
      ],
      "execution_count": null,
      "outputs": []
    },
    {
      "cell_type": "code",
      "metadata": {
        "id": "ulXz4J7PAUzk",
        "colab": {
          "base_uri": "https://localhost:8080/",
          "height": 195
        },
        "outputId": "c02379ff-cc7c-4a15-d4e3-2652516a10b7"
      },
      "source": [
        "dataset = pd.get_dummies(dataset, prefix='', prefix_sep='')\n",
        "dataset.tail()"
      ],
      "execution_count": null,
      "outputs": [
        {
          "output_type": "execute_result",
          "data": {
            "text/html": [
              "<div>\n",
              "<style scoped>\n",
              "    .dataframe tbody tr th:only-of-type {\n",
              "        vertical-align: middle;\n",
              "    }\n",
              "\n",
              "    .dataframe tbody tr th {\n",
              "        vertical-align: top;\n",
              "    }\n",
              "\n",
              "    .dataframe thead th {\n",
              "        text-align: right;\n",
              "    }\n",
              "</style>\n",
              "<table border=\"1\" class=\"dataframe\">\n",
              "  <thead>\n",
              "    <tr style=\"text-align: right;\">\n",
              "      <th></th>\n",
              "      <th>MPG</th>\n",
              "      <th>Cylinders</th>\n",
              "      <th>Displacement</th>\n",
              "      <th>Horsepower</th>\n",
              "      <th>Weight</th>\n",
              "      <th>Acceleration</th>\n",
              "      <th>Model Year</th>\n",
              "      <th>Europe</th>\n",
              "      <th>Japan</th>\n",
              "      <th>USA</th>\n",
              "    </tr>\n",
              "  </thead>\n",
              "  <tbody>\n",
              "    <tr>\n",
              "      <th>393</th>\n",
              "      <td>27.0</td>\n",
              "      <td>4</td>\n",
              "      <td>140.0</td>\n",
              "      <td>86.0</td>\n",
              "      <td>2790.0</td>\n",
              "      <td>15.6</td>\n",
              "      <td>82</td>\n",
              "      <td>0</td>\n",
              "      <td>0</td>\n",
              "      <td>1</td>\n",
              "    </tr>\n",
              "    <tr>\n",
              "      <th>394</th>\n",
              "      <td>44.0</td>\n",
              "      <td>4</td>\n",
              "      <td>97.0</td>\n",
              "      <td>52.0</td>\n",
              "      <td>2130.0</td>\n",
              "      <td>24.6</td>\n",
              "      <td>82</td>\n",
              "      <td>1</td>\n",
              "      <td>0</td>\n",
              "      <td>0</td>\n",
              "    </tr>\n",
              "    <tr>\n",
              "      <th>395</th>\n",
              "      <td>32.0</td>\n",
              "      <td>4</td>\n",
              "      <td>135.0</td>\n",
              "      <td>84.0</td>\n",
              "      <td>2295.0</td>\n",
              "      <td>11.6</td>\n",
              "      <td>82</td>\n",
              "      <td>0</td>\n",
              "      <td>0</td>\n",
              "      <td>1</td>\n",
              "    </tr>\n",
              "    <tr>\n",
              "      <th>396</th>\n",
              "      <td>28.0</td>\n",
              "      <td>4</td>\n",
              "      <td>120.0</td>\n",
              "      <td>79.0</td>\n",
              "      <td>2625.0</td>\n",
              "      <td>18.6</td>\n",
              "      <td>82</td>\n",
              "      <td>0</td>\n",
              "      <td>0</td>\n",
              "      <td>1</td>\n",
              "    </tr>\n",
              "    <tr>\n",
              "      <th>397</th>\n",
              "      <td>31.0</td>\n",
              "      <td>4</td>\n",
              "      <td>119.0</td>\n",
              "      <td>82.0</td>\n",
              "      <td>2720.0</td>\n",
              "      <td>19.4</td>\n",
              "      <td>82</td>\n",
              "      <td>0</td>\n",
              "      <td>0</td>\n",
              "      <td>1</td>\n",
              "    </tr>\n",
              "  </tbody>\n",
              "</table>\n",
              "</div>"
            ],
            "text/plain": [
              "      MPG  Cylinders  Displacement  Horsepower  ...  Model Year  Europe  Japan  USA\n",
              "393  27.0          4         140.0        86.0  ...          82       0      0    1\n",
              "394  44.0          4          97.0        52.0  ...          82       1      0    0\n",
              "395  32.0          4         135.0        84.0  ...          82       0      0    1\n",
              "396  28.0          4         120.0        79.0  ...          82       0      0    1\n",
              "397  31.0          4         119.0        82.0  ...          82       0      0    1\n",
              "\n",
              "[5 rows x 10 columns]"
            ]
          },
          "metadata": {
            "tags": []
          },
          "execution_count": 12
        }
      ]
    },
    {
      "cell_type": "markdown",
      "metadata": {
        "id": "Cuym4yvk76vU"
      },
      "source": [
        "<a id=section203></a>\n",
        "### 2.3 Split the Data into Train and Test\n",
        "\n",
        "- Now we will split the dataset into a training set and a test set.\n",
        "\n",
        "- We will use the test set in the final evaluation of our model."
      ]
    },
    {
      "cell_type": "code",
      "metadata": {
        "id": "qn-IGhUE7_1H"
      },
      "source": [
        "train_dataset = dataset.sample(frac=0.8,random_state=0)"
      ],
      "execution_count": null,
      "outputs": []
    },
    {
      "cell_type": "code",
      "metadata": {
        "id": "JojFa3DRfHIz"
      },
      "source": [
        "test_dataset = dataset.drop(train_dataset.index)"
      ],
      "execution_count": null,
      "outputs": []
    },
    {
      "cell_type": "markdown",
      "metadata": {
        "id": "J4ubs136WLNp"
      },
      "source": [
        "<a id=section204></a>\n",
        "### 2.4 Inspect the Data\n",
        "\n",
        "- We will have a quick look at the joint distribution of a few pairs of columns from the training set."
      ]
    },
    {
      "cell_type": "code",
      "metadata": {
        "id": "oRKO_x8gWKv-",
        "colab": {
          "base_uri": "https://localhost:8080/",
          "height": 764
        },
        "outputId": "8885855d-3658-4c02-9bf0-cc04c54f4f2f"
      },
      "source": [
        "sns.pairplot(train_dataset[[\"MPG\", \"Cylinders\", \"Displacement\", \"Weight\"]], diag_kind=\"kde\")"
      ],
      "execution_count": null,
      "outputs": [
        {
          "output_type": "execute_result",
          "data": {
            "text/plain": [
              "<seaborn.axisgrid.PairGrid at 0x7f7edcfcd2e8>"
            ]
          },
          "metadata": {
            "tags": []
          },
          "execution_count": 15
        },
        {
          "output_type": "display_data",
          "data": {
            "image/png": "[encoded data removed]",
            "text/plain": [
              "<Figure size 720x720 with 20 Axes>"
            ]
          },
          "metadata": {
            "tags": [],
            "needs_background": "light"
          }
        }
      ]
    },
    {
      "cell_type": "markdown",
      "metadata": {
        "id": "gavKO_6DWRMP"
      },
      "source": [
        "- Let's also look at the overall statistics:"
      ]
    },
    {
      "cell_type": "code",
      "metadata": {
        "id": "yi2FzC3T21jR",
        "colab": {
          "base_uri": "https://localhost:8080/",
          "height": 314
        },
        "outputId": "10de419c-9cad-45ec-b5fb-669d78447788"
      },
      "source": [
        "train_stats = train_dataset.describe()\n",
        "train_stats.pop(\"MPG\")\n",
        "train_stats = train_stats.transpose()\n",
        "train_stats"
      ],
      "execution_count": null,
      "outputs": [
        {
          "output_type": "execute_result",
          "data": {
            "text/html": [
              "<div>\n",
              "<style scoped>\n",
              "    .dataframe tbody tr th:only-of-type {\n",
              "        vertical-align: middle;\n",
              "    }\n",
              "\n",
              "    .dataframe tbody tr th {\n",
              "        vertical-align: top;\n",
              "    }\n",
              "\n",
              "    .dataframe thead th {\n",
              "        text-align: right;\n",
              "    }\n",
              "</style>\n",
              "<table border=\"1\" class=\"dataframe\">\n",
              "  <thead>\n",
              "    <tr style=\"text-align: right;\">\n",
              "      <th></th>\n",
              "      <th>count</th>\n",
              "      <th>mean</th>\n",
              "      <th>std</th>\n",
              "      <th>min</th>\n",
              "      <th>25%</th>\n",
              "      <th>50%</th>\n",
              "      <th>75%</th>\n",
              "      <th>max</th>\n",
              "    </tr>\n",
              "  </thead>\n",
              "  <tbody>\n",
              "    <tr>\n",
              "      <th>Cylinders</th>\n",
              "      <td>314.0</td>\n",
              "      <td>5.477707</td>\n",
              "      <td>1.699788</td>\n",
              "      <td>3.0</td>\n",
              "      <td>4.00</td>\n",
              "      <td>4.0</td>\n",
              "      <td>8.00</td>\n",
              "      <td>8.0</td>\n",
              "    </tr>\n",
              "    <tr>\n",
              "      <th>Displacement</th>\n",
              "      <td>314.0</td>\n",
              "      <td>195.318471</td>\n",
              "      <td>104.331589</td>\n",
              "      <td>68.0</td>\n",
              "      <td>105.50</td>\n",
              "      <td>151.0</td>\n",
              "      <td>265.75</td>\n",
              "      <td>455.0</td>\n",
              "    </tr>\n",
              "    <tr>\n",
              "      <th>Horsepower</th>\n",
              "      <td>314.0</td>\n",
              "      <td>104.869427</td>\n",
              "      <td>38.096214</td>\n",
              "      <td>46.0</td>\n",
              "      <td>76.25</td>\n",
              "      <td>94.5</td>\n",
              "      <td>128.00</td>\n",
              "      <td>225.0</td>\n",
              "    </tr>\n",
              "    <tr>\n",
              "      <th>Weight</th>\n",
              "      <td>314.0</td>\n",
              "      <td>2990.251592</td>\n",
              "      <td>843.898596</td>\n",
              "      <td>1649.0</td>\n",
              "      <td>2256.50</td>\n",
              "      <td>2822.5</td>\n",
              "      <td>3608.00</td>\n",
              "      <td>5140.0</td>\n",
              "    </tr>\n",
              "    <tr>\n",
              "      <th>Acceleration</th>\n",
              "      <td>314.0</td>\n",
              "      <td>15.559236</td>\n",
              "      <td>2.789230</td>\n",
              "      <td>8.0</td>\n",
              "      <td>13.80</td>\n",
              "      <td>15.5</td>\n",
              "      <td>17.20</td>\n",
              "      <td>24.8</td>\n",
              "    </tr>\n",
              "    <tr>\n",
              "      <th>Model Year</th>\n",
              "      <td>314.0</td>\n",
              "      <td>75.898089</td>\n",
              "      <td>3.675642</td>\n",
              "      <td>70.0</td>\n",
              "      <td>73.00</td>\n",
              "      <td>76.0</td>\n",
              "      <td>79.00</td>\n",
              "      <td>82.0</td>\n",
              "    </tr>\n",
              "    <tr>\n",
              "      <th>Europe</th>\n",
              "      <td>314.0</td>\n",
              "      <td>0.178344</td>\n",
              "      <td>0.383413</td>\n",
              "      <td>0.0</td>\n",
              "      <td>0.00</td>\n",
              "      <td>0.0</td>\n",
              "      <td>0.00</td>\n",
              "      <td>1.0</td>\n",
              "    </tr>\n",
              "    <tr>\n",
              "      <th>Japan</th>\n",
              "      <td>314.0</td>\n",
              "      <td>0.197452</td>\n",
              "      <td>0.398712</td>\n",
              "      <td>0.0</td>\n",
              "      <td>0.00</td>\n",
              "      <td>0.0</td>\n",
              "      <td>0.00</td>\n",
              "      <td>1.0</td>\n",
              "    </tr>\n",
              "    <tr>\n",
              "      <th>USA</th>\n",
              "      <td>314.0</td>\n",
              "      <td>0.624204</td>\n",
              "      <td>0.485101</td>\n",
              "      <td>0.0</td>\n",
              "      <td>0.00</td>\n",
              "      <td>1.0</td>\n",
              "      <td>1.00</td>\n",
              "      <td>1.0</td>\n",
              "    </tr>\n",
              "  </tbody>\n",
              "</table>\n",
              "</div>"
            ],
            "text/plain": [
              "              count         mean         std  ...     50%      75%     max\n",
              "Cylinders     314.0     5.477707    1.699788  ...     4.0     8.00     8.0\n",
              "Displacement  314.0   195.318471  104.331589  ...   151.0   265.75   455.0\n",
              "Horsepower    314.0   104.869427   38.096214  ...    94.5   128.00   225.0\n",
              "Weight        314.0  2990.251592  843.898596  ...  2822.5  3608.00  5140.0\n",
              "Acceleration  314.0    15.559236    2.789230  ...    15.5    17.20    24.8\n",
              "Model Year    314.0    75.898089    3.675642  ...    76.0    79.00    82.0\n",
              "Europe        314.0     0.178344    0.383413  ...     0.0     0.00     1.0\n",
              "Japan         314.0     0.197452    0.398712  ...     0.0     0.00     1.0\n",
              "USA           314.0     0.624204    0.485101  ...     1.0     1.00     1.0\n",
              "\n",
              "[9 rows x 8 columns]"
            ]
          },
          "metadata": {
            "tags": []
          },
          "execution_count": 16
        }
      ]
    },
    {
      "cell_type": "markdown",
      "metadata": {
        "id": "Db7Auq1yXUvh"
      },
      "source": [
        "<a id=section205></a>\n",
        "### 2.5 Split Features from Labels\n",
        "\n",
        "- Separate the target value, or \"label\", from the features.\n",
        "\n",
        "- This label is the value that we will train the model to predict."
      ]
    },
    {
      "cell_type": "code",
      "metadata": {
        "id": "t2sluJdCW7jN"
      },
      "source": [
        "train_labels = train_dataset.pop('MPG')"
      ],
      "execution_count": null,
      "outputs": []
    },
    {
      "cell_type": "code",
      "metadata": {
        "id": "uTgQXb1Afksb"
      },
      "source": [
        "test_labels = test_dataset.pop('MPG')"
      ],
      "execution_count": null,
      "outputs": []
    },
    {
      "cell_type": "markdown",
      "metadata": {
        "id": "mRklxK5s388r"
      },
      "source": [
        "<a id=section206></a>\n",
        "### 2.6 Normalize the Data\n",
        "\n",
        "- Look again at the `train_stats` block above and note how different the ranges of each feature are."
      ]
    },
    {
      "cell_type": "markdown",
      "metadata": {
        "id": "-ywmerQ6dSox"
      },
      "source": [
        "- It is good practice to normalize features that use different scales and ranges.\n",
        "\n",
        "- Although the model *might* converge without feature normalization, it makes training more difficult, and it makes the resulting model dependent on the choice of units used in the input.\n",
        "\n",
        "- **Note**: Although we intentionally generate these statistics from only the training dataset, these statistics will also be used to normalize the test dataset.\n",
        "\n",
        "  - We need to do that to project the test dataset into the same distribution that the model has been trained on."
      ]
    },
    {
      "cell_type": "code",
      "metadata": {
        "id": "JlC5ooJrgjQF"
      },
      "source": [
        "def norm(x):\n",
        "  return (x - train_stats['mean']) / train_stats['std']"
      ],
      "execution_count": null,
      "outputs": []
    },
    {
      "cell_type": "code",
      "metadata": {
        "id": "cioktPZXf9Tp"
      },
      "source": [
        "normed_train_data = norm(train_dataset)\n",
        "normed_test_data = norm(test_dataset)"
      ],
      "execution_count": null,
      "outputs": []
    },
    {
      "cell_type": "markdown",
      "metadata": {
        "id": "BuiClDk45eS4"
      },
      "source": [
        "- This normalized data is what we will use to train the model.\n",
        "\n",
        "- **Caution**: The statistics used to normalize the inputs here (mean and standard deviation) need to be applied to any other data that is fed to the model, along with the one-hot encoding that we did earlier.\n",
        "\n",
        "  - That includes the test set as well as live data when the model is used in production."
      ]
    },
    {
      "cell_type": "markdown",
      "metadata": {
        "id": "SmjdzxKzEu1-"
      },
      "source": [
        "<a id=section3></a>\n",
        "## 3. The Model"
      ]
    },
    {
      "cell_type": "markdown",
      "metadata": {
        "id": "6SWtkIjhrZwa"
      },
      "source": [
        "<a id=section301></a>\n",
        "### 3.1 Build the Model\n",
        "\n",
        "- Let's build our model.\n",
        "\n",
        "- Here, we'll use a `Sequential` model with two densely connected hidden layers, and an output layer that returns a single, continuous value.\n",
        "  \n",
        "  - Previously, we use the `model.add()` method to **add layers** to our sequential model.\n",
        "\n",
        "  - Here, we will directly **pass** all our *model layers* as **list items**.\n",
        "\n",
        "  - We achive same result in both ways.\n",
        "\n",
        "- The model building steps are wrapped in a function, `build_model`, since we'll create a second model, later on."
      ]
    },
    {
      "cell_type": "code",
      "metadata": {
        "id": "c26juK7ZG8j-"
      },
      "source": [
        "def build_model():\n",
        "  model = keras.Sequential([layers.Dense(64, activation='relu', input_shape=[len(train_dataset.keys())]),\n",
        "                            layers.Dense(64, activation='relu'),\n",
        "                            layers.Dense(1)])\n",
        "\n",
        "  # Defining the optimizer with a specific learning rate of 0.001\n",
        "  optimizer = tf.keras.optimizers.RMSprop(0.001)\n",
        "\n",
        "  # Compiling the model\n",
        "  model.compile(loss='mse', optimizer=optimizer, metrics=['mae', 'mse'])\n",
        "  return model"
      ],
      "execution_count": null,
      "outputs": []
    },
    {
      "cell_type": "code",
      "metadata": {
        "id": "cGbPb-PHGbhs"
      },
      "source": [
        "model = build_model()"
      ],
      "execution_count": null,
      "outputs": []
    },
    {
      "cell_type": "markdown",
      "metadata": {
        "id": "Sj49Og4YGULr"
      },
      "source": [
        "<a id=section302></a>\n",
        "### 3.2 Inspect the Model\n",
        "\n",
        "- Using the `.summary` method to print a simple description of the model"
      ]
    },
    {
      "cell_type": "code",
      "metadata": {
        "id": "ReAD0n6MsFK-",
        "colab": {
          "base_uri": "https://localhost:8080/",
          "height": 252
        },
        "outputId": "c37afaf8-c803-44e2-84dd-6fe3175f229b"
      },
      "source": [
        "model.summary()"
      ],
      "execution_count": null,
      "outputs": [
        {
          "output_type": "stream",
          "text": [
            "Model: \"sequential\"\n",
            "_________________________________________________________________\n",
            "Layer (type)                 Output Shape              Param #   \n",
            "=================================================================\n",
            "dense (Dense)                (None, 64)                640       \n",
            "_________________________________________________________________\n",
            "dense_1 (Dense)              (None, 64)                4160      \n",
            "_________________________________________________________________\n",
            "dense_2 (Dense)              (None, 1)                 65        \n",
            "=================================================================\n",
            "Total params: 4,865\n",
            "Trainable params: 4,865\n",
            "Non-trainable params: 0\n",
            "_________________________________________________________________\n"
          ],
          "name": "stdout"
        }
      ]
    },
    {
      "cell_type": "markdown",
      "metadata": {
        "id": "Vt6W50qGsJAL"
      },
      "source": [
        "- Now let's try out the model.\n",
        "\n",
        "- Taking a batch of `10` examples from the training data and calling `model.predict` on it."
      ]
    },
    {
      "cell_type": "code",
      "metadata": {
        "id": "-d-gBaVtGTSC",
        "colab": {
          "base_uri": "https://localhost:8080/",
          "height": 185
        },
        "outputId": "fd92d656-491d-49ab-8083-58ae6269882f"
      },
      "source": [
        "example_batch = normed_train_data[:10]\n",
        "example_result = model.predict(example_batch)\n",
        "example_result"
      ],
      "execution_count": null,
      "outputs": [
        {
          "output_type": "execute_result",
          "data": {
            "text/plain": [
              "array([[0.48484805],\n",
              "       [0.4355578 ],\n",
              "       [0.212417  ],\n",
              "       [0.7041454 ],\n",
              "       [0.60287637],\n",
              "       [0.6091177 ],\n",
              "       [0.5872176 ],\n",
              "       [0.31597763],\n",
              "       [0.42067105],\n",
              "       [0.3166316 ]], dtype=float32)"
            ]
          },
          "metadata": {
            "tags": []
          },
          "execution_count": 24
        }
      ]
    },
    {
      "cell_type": "markdown",
      "metadata": {
        "id": "QlM8KrSOsaYo"
      },
      "source": [
        "- It seems to be working, and it produces a result of the expected shape and type.\n",
        "\n",
        "- We haven't trained the model yet, and as a result the above predictions are like this. "
      ]
    },
    {
      "cell_type": "markdown",
      "metadata": {
        "id": "0-qWCsh6DlyH"
      },
      "source": [
        "<a id=section303></a>\n",
        "### 3.3 Train the Model\n",
        "\n",
        "- Training the model for 1000 epochs, and recording the training and validation accuracy in the `history` object.\n",
        "\n",
        "- We are using `tfdocs.modeling.EpochDots()` callback to print a \".\" every epoch, with reports after each 100 epochs.\n",
        "\n",
        "  - These print settings are the default values, i. e. printing a \".\" after each epoch and a report after 100 epochs.\n",
        "\n",
        "  - We can change these as per our requirements in the callback."
      ]
    },
    {
      "cell_type": "code",
      "metadata": {
        "id": "A6e-I-rukbUi"
      },
      "source": [
        "EPOCHS = 1000"
      ],
      "execution_count": null,
      "outputs": []
    },
    {
      "cell_type": "code",
      "metadata": {
        "id": "sD7qHCmNIOY0",
        "colab": {
          "base_uri": "https://localhost:8080/",
          "height": 370
        },
        "outputId": "44dfd983-0c40-49e7-b682-960e84d14bf2"
      },
      "source": [
        "history = model.fit(normed_train_data, train_labels, epochs=EPOCHS, validation_split=0.2,\n",
        "                    verbose=0, callbacks=[tfdocs.modeling.EpochDots()])"
      ],
      "execution_count": null,
      "outputs": [
        {
          "output_type": "stream",
          "text": [
            "\n",
            "Epoch: 0, loss:541.7487,  mae:22.0096,  mse:541.7487,  val_loss:527.7060,  val_mae:21.6704,  val_mse:527.7060,  \n",
            "....................................................................................................\n",
            "Epoch: 100, loss:5.9830,  mae:1.7128,  mse:5.9830,  val_loss:7.8288,  val_mae:2.1707,  val_mse:7.8288,  \n",
            "....................................................................................................\n",
            "Epoch: 200, loss:5.1332,  mae:1.5653,  mse:5.1332,  val_loss:8.1362,  val_mae:2.2020,  val_mse:8.1362,  \n",
            "....................................................................................................\n",
            "Epoch: 300, loss:4.9049,  mae:1.4785,  mse:4.9049,  val_loss:8.0897,  val_mae:2.1635,  val_mse:8.0897,  \n",
            "....................................................................................................\n",
            "Epoch: 400, loss:4.3985,  mae:1.4215,  mse:4.3985,  val_loss:8.0632,  val_mae:2.1577,  val_mse:8.0632,  \n",
            "....................................................................................................\n",
            "Epoch: 500, loss:4.0665,  mae:1.3245,  mse:4.0665,  val_loss:8.2489,  val_mae:2.2031,  val_mse:8.2489,  \n",
            "....................................................................................................\n",
            "Epoch: 600, loss:3.7020,  mae:1.2821,  mse:3.7020,  val_loss:8.3297,  val_mae:2.1978,  val_mse:8.3297,  \n",
            "....................................................................................................\n",
            "Epoch: 700, loss:3.3294,  mae:1.1968,  mse:3.3294,  val_loss:8.6563,  val_mae:2.2386,  val_mse:8.6563,  \n",
            "....................................................................................................\n",
            "Epoch: 800, loss:3.1546,  mae:1.0940,  mse:3.1546,  val_loss:8.3828,  val_mae:2.1894,  val_mse:8.3828,  \n",
            "....................................................................................................\n",
            "Epoch: 900, loss:2.7190,  mae:1.0629,  mse:2.7190,  val_loss:9.1317,  val_mae:2.3002,  val_mse:9.1317,  \n",
            "...................................................................................................."
          ],
          "name": "stdout"
        }
      ]
    },
    {
      "cell_type": "markdown",
      "metadata": {
        "id": "tQm3pc0FYPQB"
      },
      "source": [
        "- Visualizing the model's training progress using the stats stored in the `history` object."
      ]
    },
    {
      "cell_type": "code",
      "metadata": {
        "id": "4Xj91b-dymEy",
        "colab": {
          "base_uri": "https://localhost:8080/",
          "height": 195
        },
        "outputId": "6a29a584-187c-4297-aab3-ec3a330f5974"
      },
      "source": [
        "hist = pd.DataFrame(history.history)\n",
        "hist['epoch'] = history.epoch\n",
        "hist.tail()"
      ],
      "execution_count": null,
      "outputs": [
        {
          "output_type": "execute_result",
          "data": {
            "text/html": [
              "<div>\n",
              "<style scoped>\n",
              "    .dataframe tbody tr th:only-of-type {\n",
              "        vertical-align: middle;\n",
              "    }\n",
              "\n",
              "    .dataframe tbody tr th {\n",
              "        vertical-align: top;\n",
              "    }\n",
              "\n",
              "    .dataframe thead th {\n",
              "        text-align: right;\n",
              "    }\n",
              "</style>\n",
              "<table border=\"1\" class=\"dataframe\">\n",
              "  <thead>\n",
              "    <tr style=\"text-align: right;\">\n",
              "      <th></th>\n",
              "      <th>loss</th>\n",
              "      <th>mae</th>\n",
              "      <th>mse</th>\n",
              "      <th>val_loss</th>\n",
              "      <th>val_mae</th>\n",
              "      <th>val_mse</th>\n",
              "      <th>epoch</th>\n",
              "    </tr>\n",
              "  </thead>\n",
              "  <tbody>\n",
              "    <tr>\n",
              "      <th>995</th>\n",
              "      <td>2.618519</td>\n",
              "      <td>0.993956</td>\n",
              "      <td>2.618519</td>\n",
              "      <td>9.135721</td>\n",
              "      <td>2.311579</td>\n",
              "      <td>9.135721</td>\n",
              "      <td>995</td>\n",
              "    </tr>\n",
              "    <tr>\n",
              "      <th>996</th>\n",
              "      <td>2.668238</td>\n",
              "      <td>1.049185</td>\n",
              "      <td>2.668238</td>\n",
              "      <td>8.419825</td>\n",
              "      <td>2.246917</td>\n",
              "      <td>8.419825</td>\n",
              "      <td>996</td>\n",
              "    </tr>\n",
              "    <tr>\n",
              "      <th>997</th>\n",
              "      <td>2.758652</td>\n",
              "      <td>1.048263</td>\n",
              "      <td>2.758652</td>\n",
              "      <td>9.756766</td>\n",
              "      <td>2.355290</td>\n",
              "      <td>9.756766</td>\n",
              "      <td>997</td>\n",
              "    </tr>\n",
              "    <tr>\n",
              "      <th>998</th>\n",
              "      <td>2.595248</td>\n",
              "      <td>1.018901</td>\n",
              "      <td>2.595248</td>\n",
              "      <td>8.953794</td>\n",
              "      <td>2.299003</td>\n",
              "      <td>8.953794</td>\n",
              "      <td>998</td>\n",
              "    </tr>\n",
              "    <tr>\n",
              "      <th>999</th>\n",
              "      <td>2.501513</td>\n",
              "      <td>1.001177</td>\n",
              "      <td>2.501513</td>\n",
              "      <td>9.032974</td>\n",
              "      <td>2.275855</td>\n",
              "      <td>9.032974</td>\n",
              "      <td>999</td>\n",
              "    </tr>\n",
              "  </tbody>\n",
              "</table>\n",
              "</div>"
            ],
            "text/plain": [
              "         loss       mae       mse  val_loss   val_mae   val_mse  epoch\n",
              "995  2.618519  0.993956  2.618519  9.135721  2.311579  9.135721    995\n",
              "996  2.668238  1.049185  2.668238  8.419825  2.246917  8.419825    996\n",
              "997  2.758652  1.048263  2.758652  9.756766  2.355290  9.756766    997\n",
              "998  2.595248  1.018901  2.595248  8.953794  2.299003  8.953794    998\n",
              "999  2.501513  1.001177  2.501513  9.032974  2.275855  9.032974    999"
            ]
          },
          "metadata": {
            "tags": []
          },
          "execution_count": 27
        }
      ]
    },
    {
      "cell_type": "markdown",
      "metadata": {
        "id": "HdH3mNkqipW0"
      },
      "source": [
        "- We are using `tfdocs.plots.HistoryPlotter()` to plot our model history.\n"
      ]
    },
    {
      "cell_type": "code",
      "metadata": {
        "id": "czYtZS9A6D-X"
      },
      "source": [
        "plotter = tfdocs.plots.HistoryPlotter(smoothing_std=2)"
      ],
      "execution_count": null,
      "outputs": []
    },
    {
      "cell_type": "markdown",
      "metadata": {
        "id": "yn74tWRwjAR0"
      },
      "source": [
        "- Specifying the name of our **history** object in the `plotter.plot()` method.\n",
        "\n",
        "- We also need to specify the **metric** we want to plot."
      ]
    },
    {
      "cell_type": "markdown",
      "metadata": {
        "id": "qHfIGDF4j-H1"
      },
      "source": [
        "- Plotting the **MAE** plot for train and val set."
      ]
    },
    {
      "cell_type": "code",
      "metadata": {
        "id": "nMCWKskbUTvG",
        "colab": {
          "base_uri": "https://localhost:8080/",
          "height": 300
        },
        "outputId": "85b4fc7a-8ad6-4c77-df38-5dc410424768"
      },
      "source": [
        "plotter.plot({'Basic': history}, metric=\"mae\")\n",
        "plt.ylim([0, 10])\n",
        "plt.ylabel('MAE [MPG]')"
      ],
      "execution_count": null,
      "outputs": [
        {
          "output_type": "execute_result",
          "data": {
            "text/plain": [
              "Text(0, 0.5, 'MAE [MPG]')"
            ]
          },
          "metadata": {
            "tags": []
          },
          "execution_count": 29
        },
        {
          "output_type": "display_data",
          "data": {
            "image/png": "[encoded data removed]",
            "text/plain": [
              "<Figure size 432x288 with 1 Axes>"
            ]
          },
          "metadata": {
            "tags": [],
            "needs_background": "light"
          }
        }
      ]
    },
    {
      "cell_type": "markdown",
      "metadata": {
        "id": "Hg6k_D_RkD56"
      },
      "source": [
        "- Plotting the **MSE** plot for train and val set."
      ]
    },
    {
      "cell_type": "code",
      "metadata": {
        "id": "N9u74b1tXMd9",
        "colab": {
          "base_uri": "https://localhost:8080/",
          "height": 300
        },
        "outputId": "cc609c3c-a19b-4efd-8161-664a82fa904b"
      },
      "source": [
        "plotter.plot({'Basic': history}, metric=\"mse\")\n",
        "plt.ylim([0, 20])\n",
        "plt.ylabel('MSE [MPG^2]')"
      ],
      "execution_count": null,
      "outputs": [
        {
          "output_type": "execute_result",
          "data": {
            "text/plain": [
              "Text(0, 0.5, 'MSE [MPG^2]')"
            ]
          },
          "metadata": {
            "tags": []
          },
          "execution_count": 30
        },
        {
          "output_type": "display_data",
          "data": {
            "image/png": "[encoded data removed]",
            "text/plain": [
              "<Figure size 432x288 with 1 Axes>"
            ]
          },
          "metadata": {
            "tags": [],
            "needs_background": "light"
          }
        }
      ]
    },
    {
      "cell_type": "markdown",
      "metadata": {
        "id": "AqsuANc11FYv"
      },
      "source": [
        "- This graph shows little improvement, or even degradation in the validation error after about 100 epochs.\n",
        "\n",
        "- Let's update the `model.fit` call to automatically stop training when the validation score doesn't improve.\n",
        "\n",
        "- We'll use an *EarlyStopping callback* that tests a training condition for  every epoch.\n",
        "\n",
        "  - If a set amount of epochs elapses without showing improvement, then automatically stop the training."
      ]
    },
    {
      "cell_type": "code",
      "metadata": {
        "id": "l0e1Io0ZkWFh"
      },
      "source": [
        "model = build_model()"
      ],
      "execution_count": null,
      "outputs": []
    },
    {
      "cell_type": "code",
      "metadata": {
        "id": "2_lBHgyhkYvL"
      },
      "source": [
        "# The patience parameter is the amount of epochs to check for improvement\n",
        "early_stop = keras.callbacks.EarlyStopping(monitor='val_loss', patience=10)"
      ],
      "execution_count": null,
      "outputs": []
    },
    {
      "cell_type": "code",
      "metadata": {
        "id": "fdMZuhUgzMZ4",
        "colab": {
          "base_uri": "https://localhost:8080/",
          "height": 67
        },
        "outputId": "2e21f05e-2dca-4ef0-c80a-139fe5b2b4f4"
      },
      "source": [
        "early_history = model.fit(normed_train_data, train_labels, epochs=EPOCHS, validation_split=0.2,\n",
        "                          verbose=0, callbacks=[early_stop, tfdocs.modeling.EpochDots()])"
      ],
      "execution_count": null,
      "outputs": [
        {
          "output_type": "stream",
          "text": [
            "\n",
            "Epoch: 0, loss:569.3649,  mae:22.5323,  mse:569.3649,  val_loss:562.8590,  val_mae:22.3140,  val_mse:562.8590,  \n",
            ".............................................................................."
          ],
          "name": "stdout"
        }
      ]
    },
    {
      "cell_type": "code",
      "metadata": {
        "id": "W-OkQScflmwm",
        "colab": {
          "base_uri": "https://localhost:8080/",
          "height": 195
        },
        "outputId": "8d2939b1-2b3e-4202-9b39-c9a967b03f2a"
      },
      "source": [
        "early_hist = pd.DataFrame(early_history.history)\n",
        "early_hist['epoch'] = early_history.epoch\n",
        "early_hist.tail()"
      ],
      "execution_count": null,
      "outputs": [
        {
          "output_type": "execute_result",
          "data": {
            "text/html": [
              "<div>\n",
              "<style scoped>\n",
              "    .dataframe tbody tr th:only-of-type {\n",
              "        vertical-align: middle;\n",
              "    }\n",
              "\n",
              "    .dataframe tbody tr th {\n",
              "        vertical-align: top;\n",
              "    }\n",
              "\n",
              "    .dataframe thead th {\n",
              "        text-align: right;\n",
              "    }\n",
              "</style>\n",
              "<table border=\"1\" class=\"dataframe\">\n",
              "  <thead>\n",
              "    <tr style=\"text-align: right;\">\n",
              "      <th></th>\n",
              "      <th>loss</th>\n",
              "      <th>mae</th>\n",
              "      <th>mse</th>\n",
              "      <th>val_loss</th>\n",
              "      <th>val_mae</th>\n",
              "      <th>val_mse</th>\n",
              "      <th>epoch</th>\n",
              "    </tr>\n",
              "  </thead>\n",
              "  <tbody>\n",
              "    <tr>\n",
              "      <th>73</th>\n",
              "      <td>6.250001</td>\n",
              "      <td>1.740645</td>\n",
              "      <td>6.250001</td>\n",
              "      <td>8.534706</td>\n",
              "      <td>2.145968</td>\n",
              "      <td>8.534706</td>\n",
              "      <td>73</td>\n",
              "    </tr>\n",
              "    <tr>\n",
              "      <th>74</th>\n",
              "      <td>6.333835</td>\n",
              "      <td>1.780969</td>\n",
              "      <td>6.333835</td>\n",
              "      <td>8.317598</td>\n",
              "      <td>2.217719</td>\n",
              "      <td>8.317598</td>\n",
              "      <td>74</td>\n",
              "    </tr>\n",
              "    <tr>\n",
              "      <th>75</th>\n",
              "      <td>6.153298</td>\n",
              "      <td>1.719246</td>\n",
              "      <td>6.153298</td>\n",
              "      <td>8.284129</td>\n",
              "      <td>2.144915</td>\n",
              "      <td>8.284129</td>\n",
              "      <td>75</td>\n",
              "    </tr>\n",
              "    <tr>\n",
              "      <th>76</th>\n",
              "      <td>6.295592</td>\n",
              "      <td>1.743015</td>\n",
              "      <td>6.295592</td>\n",
              "      <td>8.369061</td>\n",
              "      <td>2.195892</td>\n",
              "      <td>8.369061</td>\n",
              "      <td>76</td>\n",
              "    </tr>\n",
              "    <tr>\n",
              "      <th>77</th>\n",
              "      <td>6.240103</td>\n",
              "      <td>1.750755</td>\n",
              "      <td>6.240103</td>\n",
              "      <td>8.192513</td>\n",
              "      <td>2.151584</td>\n",
              "      <td>8.192513</td>\n",
              "      <td>77</td>\n",
              "    </tr>\n",
              "  </tbody>\n",
              "</table>\n",
              "</div>"
            ],
            "text/plain": [
              "        loss       mae       mse  val_loss   val_mae   val_mse  epoch\n",
              "73  6.250001  1.740645  6.250001  8.534706  2.145968  8.534706     73\n",
              "74  6.333835  1.780969  6.333835  8.317598  2.217719  8.317598     74\n",
              "75  6.153298  1.719246  6.153298  8.284129  2.144915  8.284129     75\n",
              "76  6.295592  1.743015  6.295592  8.369061  2.195892  8.369061     76\n",
              "77  6.240103  1.750755  6.240103  8.192513  2.151584  8.192513     77"
            ]
          },
          "metadata": {
            "tags": []
          },
          "execution_count": 34
        }
      ]
    },
    {
      "cell_type": "markdown",
      "metadata": {
        "id": "PrQWOEpzlybA"
      },
      "source": [
        "- The training stopped before completing the 1000 epochs due to our EarlyStopping callback."
      ]
    },
    {
      "cell_type": "code",
      "metadata": {
        "id": "LcopvQh3X-kX",
        "colab": {
          "base_uri": "https://localhost:8080/",
          "height": 300
        },
        "outputId": "c3202a21-1f4b-4193-e356-5906ff697861"
      },
      "source": [
        "plotter.plot({'Early Stopping': early_history}, metric=\"mae\")\n",
        "plt.ylim([0, 10])\n",
        "plt.ylabel('MAE [MPG]')"
      ],
      "execution_count": null,
      "outputs": [
        {
          "output_type": "execute_result",
          "data": {
            "text/plain": [
              "Text(0, 0.5, 'MAE [MPG]')"
            ]
          },
          "metadata": {
            "tags": []
          },
          "execution_count": 35
        },
        {
          "output_type": "display_data",
          "data": {
            "image/png": "[encoded data removed]",
            "text/plain": [
              "<Figure size 432x288 with 1 Axes>"
            ]
          },
          "metadata": {
            "tags": [],
            "needs_background": "light"
          }
        }
      ]
    },
    {
      "cell_type": "markdown",
      "metadata": {
        "id": "3St8-DmrX8P4"
      },
      "source": [
        "- The graph shows that on the validation set, the average error is usually around **+/- 2 MPG**.\n",
        "\n",
        "- Is this good? We'll leave that decision up to you."
      ]
    },
    {
      "cell_type": "markdown",
      "metadata": {
        "id": "tojqpsyuk4aY"
      },
      "source": [
        "- Let's see how well the model generalizes by using the **test** set, which we did not use when training the model.\n",
        "\n",
        "- This tells us how well we can expect the model to predict when we use it in the real world."
      ]
    },
    {
      "cell_type": "code",
      "metadata": {
        "id": "jl_yNr5n1kms",
        "colab": {
          "base_uri": "https://localhost:8080/",
          "height": 50
        },
        "outputId": "7197a322-bdfc-40d2-d79a-2857b8fffcc9"
      },
      "source": [
        "loss, mae, mse = model.evaluate(normed_test_data, test_labels, verbose=2)\n",
        "\n",
        "print(\"Testing set Mean Abs Error: {:5.2f} MPG\".format(mae))"
      ],
      "execution_count": null,
      "outputs": [
        {
          "output_type": "stream",
          "text": [
            "3/3 - 0s - loss: 5.7151 - mae: 1.8517 - mse: 5.7151\n",
            "Testing set Mean Abs Error:  1.85 MPG\n"
          ],
          "name": "stdout"
        }
      ]
    },
    {
      "cell_type": "markdown",
      "metadata": {
        "id": "gtOPvd8dm8SM"
      },
      "source": [
        "- We get a MAE of **less than 2 MPG** on the test set."
      ]
    },
    {
      "cell_type": "markdown",
      "metadata": {
        "id": "ft603OzXuEZC"
      },
      "source": [
        "<a id=section304></a>\n",
        "### 3.4 Make Predictions\n",
        "\n",
        "- Finally, **predict MPG** values using data in the testing set:"
      ]
    },
    {
      "cell_type": "code",
      "metadata": {
        "id": "QwnhW3WllMuM"
      },
      "source": [
        "test_predictions = model.predict(normed_test_data).flatten()"
      ],
      "execution_count": null,
      "outputs": []
    },
    {
      "cell_type": "code",
      "metadata": {
        "id": "Xe7RXH3N3CWU",
        "colab": {
          "base_uri": "https://localhost:8080/",
          "height": 283
        },
        "outputId": "5bd3acc6-3975-45d9-c065-9683ebfa96f2"
      },
      "source": [
        "a = plt.axes(aspect='equal')\n",
        "plt.scatter(test_labels, test_predictions)\n",
        "plt.xlabel('True Values [MPG]')\n",
        "plt.ylabel('Predictions [MPG]')\n",
        "lims = [0, 50]\n",
        "plt.xlim(lims)\n",
        "plt.ylim(lims)\n",
        "_ = plt.plot(lims, lims)"
      ],
      "execution_count": null,
      "outputs": [
        {
          "output_type": "display_data",
          "data": {
            "image/png": "[encoded data removed]",
            "text/plain": [
              "<Figure size 432x288 with 1 Axes>"
            ]
          },
          "metadata": {
            "tags": [],
            "needs_background": "light"
          }
        }
      ]
    },
    {
      "cell_type": "markdown",
      "metadata": {
        "id": "19wyogbOSU5t"
      },
      "source": [
        "- It looks like our model predicts reasonably well.\n",
        "\n",
        "- Let's take a look at the **error** distribution."
      ]
    },
    {
      "cell_type": "code",
      "metadata": {
        "id": "-5Q1c0GHldwW"
      },
      "source": [
        "error = test_predictions - test_labels"
      ],
      "execution_count": null,
      "outputs": []
    },
    {
      "cell_type": "code",
      "metadata": {
        "id": "f-OHX4DiXd8x",
        "colab": {
          "base_uri": "https://localhost:8080/",
          "height": 279
        },
        "outputId": "0f6b11e6-a773-4a7d-826e-906a66f4189e"
      },
      "source": [
        "plt.hist(error, bins=25)\n",
        "plt.xlabel(\"Prediction Error [MPG]\")\n",
        "_ = plt.ylabel(\"Count\")"
      ],
      "execution_count": null,
      "outputs": [
        {
          "output_type": "display_data",
          "data": {
            "image/png": "[encoded data removed]",
            "text/plain": [
              "<Figure size 432x288 with 1 Axes>"
            ]
          },
          "metadata": {
            "tags": [],
            "needs_background": "light"
          }
        }
      ]
    },
    {
      "cell_type": "markdown",
      "metadata": {
        "id": "m0CB5tBjSU5w"
      },
      "source": [
        "- It's not quite gaussian, but we might expect that because the number of samples is very small."
      ]
    },
    {
      "cell_type": "markdown",
      "metadata": {
        "id": "M5nJiBilJUBl"
      },
      "source": [
        "<a id=section4></a>\n",
        "## 4. Model Tuning"
      ]
    },
    {
      "cell_type": "markdown",
      "metadata": {
        "id": "OjfoiQTRKJD4"
      },
      "source": [
        "- We have already achieved very good result on our test set.\n",
        "\n",
        "- If we train the model for too long, the model will start to overfit and learn patterns from the training data that don't generalize to the test data.\n",
        "\n",
        "  - We need to strike a balance.\n",
        "  \n",
        "  - We have already learned how to train for an appropriate number of epochs using the **Early Stopping** callback.\n",
        "\n",
        "- And, now we will experiment some additional methods to **improve** the model **performance** and reduce overfitting.\n",
        "\n",
        "  - These methods will all be applied during model building."
      ]
    },
    {
      "cell_type": "markdown",
      "metadata": {
        "id": "VIApFoPyJepz"
      },
      "source": [
        "<a id=section401></a>\n",
        "### 4.1 Increasing the Number of Hidden Layers and Hidden Units"
      ]
    },
    {
      "cell_type": "markdown",
      "metadata": {
        "id": "cQVp-itGRTSe"
      },
      "source": [
        "- We can improve model performance by increasing the number of hidden layers and hidden units in the model.\n",
        "\n",
        "  - But this can result in overfitting.\n",
        "\n",
        "- Here, we are increasing the number of **hidden layers** from 2 to **4** i. e. adding 2 additional layers.\n",
        "\n",
        "- Next, we are using **256 hidden units** instead of 64."
      ]
    },
    {
      "cell_type": "code",
      "metadata": {
        "id": "N-rzA-MULKlL"
      },
      "source": [
        "model = keras.Sequential([layers.Dense(256, activation='relu', input_shape=[len(train_dataset.keys())]),\n",
        "                          layers.Dense(256, activation='relu'),\n",
        "                          layers.Dense(256, activation='relu'),\n",
        "                          layers.Dense(256, activation='relu'),\n",
        "                          layers.Dense(1)])"
      ],
      "execution_count": null,
      "outputs": []
    },
    {
      "cell_type": "code",
      "metadata": {
        "id": "0y_7Xdc5XIHM",
        "colab": {
          "base_uri": "https://localhost:8080/",
          "height": 319
        },
        "outputId": "133ba390-e04a-4853-8143-00282cdbda78"
      },
      "source": [
        "model.summary()"
      ],
      "execution_count": null,
      "outputs": [
        {
          "output_type": "stream",
          "text": [
            "Model: \"sequential_4\"\n",
            "_________________________________________________________________\n",
            "Layer (type)                 Output Shape              Param #   \n",
            "=================================================================\n",
            "dense_16 (Dense)             (None, 256)               2560      \n",
            "_________________________________________________________________\n",
            "dense_17 (Dense)             (None, 256)               65792     \n",
            "_________________________________________________________________\n",
            "dense_18 (Dense)             (None, 256)               65792     \n",
            "_________________________________________________________________\n",
            "dense_19 (Dense)             (None, 256)               65792     \n",
            "_________________________________________________________________\n",
            "dense_20 (Dense)             (None, 1)                 257       \n",
            "=================================================================\n",
            "Total params: 200,193\n",
            "Trainable params: 200,193\n",
            "Non-trainable params: 0\n",
            "_________________________________________________________________\n"
          ],
          "name": "stdout"
        }
      ]
    },
    {
      "cell_type": "code",
      "metadata": {
        "id": "iruVj2Z6Kp3u"
      },
      "source": [
        "# Defining the optimizer with a specific learning rate of 0.001\n",
        "optimizer = tf.keras.optimizers.RMSprop(0.001)\n",
        "\n",
        "# Compiling the model\n",
        "model.compile(loss='mse', optimizer=optimizer, metrics=['mae', 'mse'])"
      ],
      "execution_count": null,
      "outputs": []
    },
    {
      "cell_type": "markdown",
      "metadata": {
        "id": "1zWZ9AZ1XMK4"
      },
      "source": [
        "- We are not using the Early Stopping callback now.\n",
        "\n",
        "- The model will be trained for **100 epochs**."
      ]
    },
    {
      "cell_type": "code",
      "metadata": {
        "id": "l-JAVgBXKp32",
        "colab": {
          "base_uri": "https://localhost:8080/",
          "height": 67
        },
        "outputId": "83174fab-e831-4594-c4b8-dabc28e7cc8c"
      },
      "source": [
        "history_large = model.fit(normed_train_data, train_labels, epochs=100, validation_split=0.2,\n",
        "                          verbose=0, callbacks=[tfdocs.modeling.EpochDots()])"
      ],
      "execution_count": null,
      "outputs": [
        {
          "output_type": "stream",
          "text": [
            "\n",
            "Epoch: 0, loss:251.6537,  mae:12.9217,  mse:251.6537,  val_loss:57.0975,  val_mae:6.6906,  val_mse:57.0975,  \n",
            "...................................................................................................."
          ],
          "name": "stdout"
        }
      ]
    },
    {
      "cell_type": "code",
      "metadata": {
        "id": "T704VIcvKp34",
        "colab": {
          "base_uri": "https://localhost:8080/",
          "height": 195
        },
        "outputId": "2d143045-9a15-4e6a-fb90-d6490854ef64"
      },
      "source": [
        "hist_large = pd.DataFrame(history_large.history)\n",
        "hist_large['epoch'] = history_large.epoch\n",
        "hist_large.tail()"
      ],
      "execution_count": null,
      "outputs": [
        {
          "output_type": "execute_result",
          "data": {
            "text/html": [
              "<div>\n",
              "<style scoped>\n",
              "    .dataframe tbody tr th:only-of-type {\n",
              "        vertical-align: middle;\n",
              "    }\n",
              "\n",
              "    .dataframe tbody tr th {\n",
              "        vertical-align: top;\n",
              "    }\n",
              "\n",
              "    .dataframe thead th {\n",
              "        text-align: right;\n",
              "    }\n",
              "</style>\n",
              "<table border=\"1\" class=\"dataframe\">\n",
              "  <thead>\n",
              "    <tr style=\"text-align: right;\">\n",
              "      <th></th>\n",
              "      <th>loss</th>\n",
              "      <th>mae</th>\n",
              "      <th>mse</th>\n",
              "      <th>val_loss</th>\n",
              "      <th>val_mae</th>\n",
              "      <th>val_mse</th>\n",
              "      <th>epoch</th>\n",
              "    </tr>\n",
              "  </thead>\n",
              "  <tbody>\n",
              "    <tr>\n",
              "      <th>95</th>\n",
              "      <td>11.251785</td>\n",
              "      <td>2.593729</td>\n",
              "      <td>11.251785</td>\n",
              "      <td>9.127599</td>\n",
              "      <td>2.236834</td>\n",
              "      <td>9.127599</td>\n",
              "      <td>95</td>\n",
              "    </tr>\n",
              "    <tr>\n",
              "      <th>96</th>\n",
              "      <td>5.190663</td>\n",
              "      <td>1.587650</td>\n",
              "      <td>5.190663</td>\n",
              "      <td>14.745302</td>\n",
              "      <td>3.209125</td>\n",
              "      <td>14.745302</td>\n",
              "      <td>96</td>\n",
              "    </tr>\n",
              "    <tr>\n",
              "      <th>97</th>\n",
              "      <td>9.112062</td>\n",
              "      <td>2.205664</td>\n",
              "      <td>9.112062</td>\n",
              "      <td>23.110064</td>\n",
              "      <td>4.130605</td>\n",
              "      <td>23.110064</td>\n",
              "      <td>97</td>\n",
              "    </tr>\n",
              "    <tr>\n",
              "      <th>98</th>\n",
              "      <td>7.514537</td>\n",
              "      <td>1.994598</td>\n",
              "      <td>7.514537</td>\n",
              "      <td>8.975740</td>\n",
              "      <td>2.377245</td>\n",
              "      <td>8.975740</td>\n",
              "      <td>98</td>\n",
              "    </tr>\n",
              "    <tr>\n",
              "      <th>99</th>\n",
              "      <td>7.112574</td>\n",
              "      <td>1.908518</td>\n",
              "      <td>7.112574</td>\n",
              "      <td>16.578730</td>\n",
              "      <td>3.476238</td>\n",
              "      <td>16.578730</td>\n",
              "      <td>99</td>\n",
              "    </tr>\n",
              "  </tbody>\n",
              "</table>\n",
              "</div>"
            ],
            "text/plain": [
              "         loss       mae        mse   val_loss   val_mae    val_mse  epoch\n",
              "95  11.251785  2.593729  11.251785   9.127599  2.236834   9.127599     95\n",
              "96   5.190663  1.587650   5.190663  14.745302  3.209125  14.745302     96\n",
              "97   9.112062  2.205664   9.112062  23.110064  4.130605  23.110064     97\n",
              "98   7.514537  1.994598   7.514537   8.975740  2.377245   8.975740     98\n",
              "99   7.112574  1.908518   7.112574  16.578730  3.476238  16.578730     99"
            ]
          },
          "metadata": {
            "tags": []
          },
          "execution_count": 61
        }
      ]
    },
    {
      "cell_type": "code",
      "metadata": {
        "id": "aNrCwF7RJimw",
        "colab": {
          "base_uri": "https://localhost:8080/",
          "height": 300
        },
        "outputId": "da850bae-561d-47a1-c791-0e5521119920"
      },
      "source": [
        "plotter.plot({'Large Model': history_large}, metric=\"mae\")\n",
        "plt.ylim([0, 10])\n",
        "plt.ylabel('MAE [MPG]')"
      ],
      "execution_count": null,
      "outputs": [
        {
          "output_type": "execute_result",
          "data": {
            "text/plain": [
              "Text(0, 0.5, 'MAE [MPG]')"
            ]
          },
          "metadata": {
            "tags": []
          },
          "execution_count": 62
        },
        {
          "output_type": "display_data",
          "data": {
            "image/png": "[encoded data removed]",
            "text/plain": [
              "<Figure size 432x288 with 1 Axes>"
            ]
          },
          "metadata": {
            "tags": [],
            "needs_background": "light"
          }
        }
      ]
    },
    {
      "cell_type": "code",
      "metadata": {
        "id": "AZw3Z2yiJizn",
        "colab": {
          "base_uri": "https://localhost:8080/",
          "height": 50
        },
        "outputId": "f15262d4-8f54-46ba-8da2-8bc0e1b4a6bc"
      },
      "source": [
        "loss, mae, mse = model.evaluate(normed_test_data, test_labels, verbose=2)\n",
        "\n",
        "print(\"Testing set Mean Abs Error: {:5.2f} MPG\".format(mae))"
      ],
      "execution_count": null,
      "outputs": [
        {
          "output_type": "stream",
          "text": [
            "3/3 - 0s - loss: 12.0076 - mae: 2.7568 - mse: 12.0076\n",
            "Testing set Mean Abs Error:  2.76 MPG\n"
          ],
          "name": "stdout"
        }
      ]
    },
    {
      "cell_type": "markdown",
      "metadata": {
        "id": "LkZ5Pj6KJ3WZ"
      },
      "source": [
        "- We get a significant increase in the test set error.\n",
        "\n",
        "- The larger model is **overfitting** the train set.\n",
        "\n",
        "- The performance on the test set is worse than our smaller model."
      ]
    },
    {
      "cell_type": "markdown",
      "metadata": {
        "id": "3MKtgfwNJi6n"
      },
      "source": [
        "<a id=section402></a>\n",
        "### 4.2 Weight Regularization"
      ]
    },
    {
      "cell_type": "markdown",
      "metadata": {
        "id": "KGWhz_NPT5cA"
      },
      "source": [
        "- Regularization places **constraints** on the quantity and type of information the model can store.\n",
        "\n",
        "- If a network can only afford to memorize a small number of patterns, the optimization process will force it to focus on the most prominent patterns, which have a better chance of generalizing well."
      ]
    },
    {
      "cell_type": "markdown",
      "metadata": {
        "id": "gx1V4cRWhY8a"
      },
      "source": [
        "- We can put constraints on the complexity of a network by forcing its weights only to take small values, which makes the distribution of weight values more \"regular\".\n",
        "\n",
        "- This is called \"**weight regularization**\", and it is done by adding to the loss function of the network a cost associated with having large weights."
      ]
    },
    {
      "cell_type": "markdown",
      "metadata": {
        "id": "xneY4mKrkYrz"
      },
      "source": [
        "- This cost comes in two flavors:\n",
        "\n",
        "  - L1 regularization, where the cost added is proportional to the absolute value of the weights coefficients (i.e. to what is called the \"L1 norm\" of the weights).\n",
        "\n",
        "  - L2 regularization, where the cost added is proportional to the square of the value of the weights coefficients (i.e. to what is called the squared \"L2 norm\" of the weights).\n",
        "    - L2 regularization is also called weight decay in the context of neural networks.\n",
        "    \n",
        "    - Don't let the different name confuse you: weight decay is mathematically the exact same as L2 regularization."
      ]
    },
    {
      "cell_type": "markdown",
      "metadata": {
        "id": "lBgXBkcbjJ4i"
      },
      "source": [
        "- L1 regularization pushes weights towards exactly zero encouraging a sparse model.\n",
        "\n",
        "- L2 regularization will penalize the weights parameters without making them sparse since the penalty goes to zero for small weights.\n",
        "\n",
        "  - One reason why L2 is more common.\n",
        "\n",
        "- In `tf.keras`, weight regularization is added by passing weight regularizer instances to layers as keyword arguments.\n",
        "\n",
        "- Let's add L2 weight regularization to the model."
      ]
    },
    {
      "cell_type": "code",
      "metadata": {
        "id": "sL4B2G9xWRTg"
      },
      "source": [
        "from tensorflow.keras import regularizers"
      ],
      "execution_count": null,
      "outputs": []
    },
    {
      "cell_type": "code",
      "metadata": {
        "id": "jqTXHlHJXqsc"
      },
      "source": [
        "model = keras.Sequential([layers.Dense(256, activation='relu', kernel_regularizer=regularizers.l2(0.001), input_shape=[len(train_dataset.keys())]),\n",
        "                          layers.Dense(256, activation='relu', kernel_regularizer=regularizers.l2(0.001)),\n",
        "                          layers.Dense(256, activation='relu', kernel_regularizer=regularizers.l2(0.001)),\n",
        "                          layers.Dense(256, activation='relu', kernel_regularizer=regularizers.l2(0.001)),\n",
        "                          layers.Dense(1)])"
      ],
      "execution_count": null,
      "outputs": []
    },
    {
      "cell_type": "markdown",
      "metadata": {
        "id": "xyddXLgSn2lt"
      },
      "source": [
        "- `l2(0.001)` means that every coefficient in the weight matrix of the layer will add `(0.001 * weight_coefficient_value**2)` to the total loss of the network."
      ]
    },
    {
      "cell_type": "code",
      "metadata": {
        "id": "YHNjutsEXqsi",
        "colab": {
          "base_uri": "https://localhost:8080/",
          "height": 319
        },
        "outputId": "a769abde-2676-4ba6-84cf-3f52cc14d643"
      },
      "source": [
        "model.summary()"
      ],
      "execution_count": null,
      "outputs": [
        {
          "output_type": "stream",
          "text": [
            "Model: \"sequential_5\"\n",
            "_________________________________________________________________\n",
            "Layer (type)                 Output Shape              Param #   \n",
            "=================================================================\n",
            "dense_21 (Dense)             (None, 256)               2560      \n",
            "_________________________________________________________________\n",
            "dense_22 (Dense)             (None, 256)               65792     \n",
            "_________________________________________________________________\n",
            "dense_23 (Dense)             (None, 256)               65792     \n",
            "_________________________________________________________________\n",
            "dense_24 (Dense)             (None, 256)               65792     \n",
            "_________________________________________________________________\n",
            "dense_25 (Dense)             (None, 1)                 257       \n",
            "=================================================================\n",
            "Total params: 200,193\n",
            "Trainable params: 200,193\n",
            "Non-trainable params: 0\n",
            "_________________________________________________________________\n"
          ],
          "name": "stdout"
        }
      ]
    },
    {
      "cell_type": "code",
      "metadata": {
        "id": "euC9TMa8Xqso"
      },
      "source": [
        "# Defining the optimizer with a specific learning rate of 0.001\n",
        "optimizer = tf.keras.optimizers.RMSprop(0.001)\n",
        "\n",
        "# Compiling the model\n",
        "model.compile(loss='mse', optimizer=optimizer, metrics=['mae', 'mse'])"
      ],
      "execution_count": null,
      "outputs": []
    },
    {
      "cell_type": "code",
      "metadata": {
        "id": "nUcj-apxXqsr",
        "colab": {
          "base_uri": "https://localhost:8080/",
          "height": 67
        },
        "outputId": "cf12a983-3f40-49ff-b3b8-fb07dc9bf3bb"
      },
      "source": [
        "history_l2 = model.fit(normed_train_data, train_labels, epochs=100, validation_split=0.2,\n",
        "                          verbose=0, callbacks=[tfdocs.modeling.EpochDots()])"
      ],
      "execution_count": null,
      "outputs": [
        {
          "output_type": "stream",
          "text": [
            "\n",
            "Epoch: 0, loss:11.1039,  mae:2.4910,  mse:10.7133,  val_loss:23.6028,  val_mae:4.1313,  val_mse:23.2143,  \n",
            "...................................................................................................."
          ],
          "name": "stdout"
        }
      ]
    },
    {
      "cell_type": "code",
      "metadata": {
        "id": "UVmWaRrUXqsv",
        "colab": {
          "base_uri": "https://localhost:8080/",
          "height": 195
        },
        "outputId": "ce2fc29e-8d2d-4b55-91e1-a7bdd4070bbb"
      },
      "source": [
        "hist_l2 = pd.DataFrame(history_l2.history)\n",
        "hist_l2['epoch'] = history_l2.epoch\n",
        "hist_l2.tail()"
      ],
      "execution_count": null,
      "outputs": [
        {
          "output_type": "execute_result",
          "data": {
            "text/html": [
              "<div>\n",
              "<style scoped>\n",
              "    .dataframe tbody tr th:only-of-type {\n",
              "        vertical-align: middle;\n",
              "    }\n",
              "\n",
              "    .dataframe tbody tr th {\n",
              "        vertical-align: top;\n",
              "    }\n",
              "\n",
              "    .dataframe thead th {\n",
              "        text-align: right;\n",
              "    }\n",
              "</style>\n",
              "<table border=\"1\" class=\"dataframe\">\n",
              "  <thead>\n",
              "    <tr style=\"text-align: right;\">\n",
              "      <th></th>\n",
              "      <th>loss</th>\n",
              "      <th>mae</th>\n",
              "      <th>mse</th>\n",
              "      <th>val_loss</th>\n",
              "      <th>val_mae</th>\n",
              "      <th>val_mse</th>\n",
              "      <th>epoch</th>\n",
              "    </tr>\n",
              "  </thead>\n",
              "  <tbody>\n",
              "    <tr>\n",
              "      <th>95</th>\n",
              "      <td>5.571243</td>\n",
              "      <td>1.700577</td>\n",
              "      <td>5.219910</td>\n",
              "      <td>10.070971</td>\n",
              "      <td>2.449507</td>\n",
              "      <td>9.719448</td>\n",
              "      <td>95</td>\n",
              "    </tr>\n",
              "    <tr>\n",
              "      <th>96</th>\n",
              "      <td>3.707268</td>\n",
              "      <td>1.387418</td>\n",
              "      <td>3.356185</td>\n",
              "      <td>8.279347</td>\n",
              "      <td>2.263838</td>\n",
              "      <td>7.928108</td>\n",
              "      <td>96</td>\n",
              "    </tr>\n",
              "    <tr>\n",
              "      <th>97</th>\n",
              "      <td>9.306983</td>\n",
              "      <td>2.121928</td>\n",
              "      <td>8.956490</td>\n",
              "      <td>9.085012</td>\n",
              "      <td>2.167993</td>\n",
              "      <td>8.735017</td>\n",
              "      <td>97</td>\n",
              "    </tr>\n",
              "    <tr>\n",
              "      <th>98</th>\n",
              "      <td>3.336779</td>\n",
              "      <td>1.208559</td>\n",
              "      <td>2.987214</td>\n",
              "      <td>9.899775</td>\n",
              "      <td>2.469251</td>\n",
              "      <td>9.550734</td>\n",
              "      <td>98</td>\n",
              "    </tr>\n",
              "    <tr>\n",
              "      <th>99</th>\n",
              "      <td>4.304240</td>\n",
              "      <td>1.428926</td>\n",
              "      <td>3.954619</td>\n",
              "      <td>11.663343</td>\n",
              "      <td>2.628310</td>\n",
              "      <td>11.314541</td>\n",
              "      <td>99</td>\n",
              "    </tr>\n",
              "  </tbody>\n",
              "</table>\n",
              "</div>"
            ],
            "text/plain": [
              "        loss       mae       mse   val_loss   val_mae    val_mse  epoch\n",
              "95  5.571243  1.700577  5.219910  10.070971  2.449507   9.719448     95\n",
              "96  3.707268  1.387418  3.356185   8.279347  2.263838   7.928108     96\n",
              "97  9.306983  2.121928  8.956490   9.085012  2.167993   8.735017     97\n",
              "98  3.336779  1.208559  2.987214   9.899775  2.469251   9.550734     98\n",
              "99  4.304240  1.428926  3.954619  11.663343  2.628310  11.314541     99"
            ]
          },
          "metadata": {
            "tags": []
          },
          "execution_count": 72
        }
      ]
    },
    {
      "cell_type": "code",
      "metadata": {
        "id": "ByochoKtXqsz",
        "colab": {
          "base_uri": "https://localhost:8080/",
          "height": 300
        },
        "outputId": "f4d53b6f-edf5-465c-95a0-6ce830f0e09a"
      },
      "source": [
        "plotter.plot({'L2 Regularization Model': history_l2}, metric=\"mae\")\n",
        "plt.ylim([0, 10])\n",
        "plt.ylabel('MAE [MPG]')"
      ],
      "execution_count": null,
      "outputs": [
        {
          "output_type": "execute_result",
          "data": {
            "text/plain": [
              "Text(0, 0.5, 'MAE [MPG]')"
            ]
          },
          "metadata": {
            "tags": []
          },
          "execution_count": 77
        },
        {
          "output_type": "display_data",
          "data": {
            "image/png": "[encoded data removed]",
            "text/plain": [
              "<Figure size 432x288 with 1 Axes>"
            ]
          },
          "metadata": {
            "tags": [],
            "needs_background": "light"
          }
        }
      ]
    },
    {
      "cell_type": "code",
      "metadata": {
        "id": "iKBnZXlkXqs4",
        "colab": {
          "base_uri": "https://localhost:8080/",
          "height": 50
        },
        "outputId": "9cc14ece-4345-4c8c-9330-a7ac0d59e81e"
      },
      "source": [
        "loss, mae, mse = model.evaluate(normed_test_data, test_labels, verbose=2)\n",
        "\n",
        "print(\"Testing set Mean Abs Error: {:5.2f} MPG\".format(mae))"
      ],
      "execution_count": null,
      "outputs": [
        {
          "output_type": "stream",
          "text": [
            "3/3 - 0s - loss: 7.9875 - mae: 1.9758 - mse: 7.6387\n",
            "Testing set Mean Abs Error:  1.98 MPG\n"
          ],
          "name": "stdout"
        }
      ]
    },
    {
      "cell_type": "markdown",
      "metadata": {
        "id": "qbRPJBSiT5cZ"
      },
      "source": [
        "- After adding L2 regularization, the test set error is reduced.\n",
        "\n",
        "- The performance on the test set is better than the larger model.\n",
        "\n",
        "- The L2 regularized model is much more resistant to overfitting than the larger model."
      ]
    },
    {
      "cell_type": "markdown",
      "metadata": {
        "id": "RvOZFGR2UOIF"
      },
      "source": [
        "<a id=section403></a>\n",
        "### 4.3 Dropout"
      ]
    },
    {
      "cell_type": "markdown",
      "metadata": {
        "id": "88R8OaRCoVqN"
      },
      "source": [
        "- Dropout is one of the **most effective** and **most commonly used** regularization techniques for neural networks, developed by Hinton and his students at the University of Toronto.\n",
        "\n",
        "- The intuitive explanation for dropout is that because individual nodes in the network cannot rely on the output of the others, each node must output features that are useful on their own.\n",
        "\n",
        "- Dropout, applied to a layer, consists of **randomly** \"**dropping out**\" (i.e. set to zero) a number of **output features** of the layer during training.\n",
        "\n",
        "  - Let's say a given layer would normally have returned a vector [0.2, 0.5, 1.3, 0.8, 1.1] for a given input sample during training.\n",
        "  \n",
        "  - After applying dropout, this vector will have a few zero entries distributed at random, e.g. [0, 0.5, 1.3, 0, 1.1].\n",
        "\n",
        "- The \"**dropout rate**\" is the fraction of the features that are being zeroed-out; it is usually set between **0.2** and **0.5**.\n",
        "\n",
        "- *At test time*, **no units are dropped out**, and instead the layer's output values are scaled down by a factor equal to the dropout rate, so as to balance for the fact that more units are active than at training time."
      ]
    },
    {
      "cell_type": "markdown",
      "metadata": {
        "id": "dEZdmMVso23I"
      },
      "source": [
        "- In `tf.keras` we can introduce dropout in a network via the Dropout layer, which gets applied to the output of layer right before.\n",
        "\n",
        "- Let's add Dropout layers in our network to see how well they do at reducing overfitting."
      ]
    },
    {
      "cell_type": "code",
      "metadata": {
        "id": "VoNGoDZ7oVqT"
      },
      "source": [
        "model = keras.Sequential([layers.Dense(256, activation='relu', input_shape=[len(train_dataset.keys())]),\n",
        "                          layers.Dropout(0.2),\n",
        "                          layers.Dense(256, activation='relu'),\n",
        "                          layers.Dropout(0.2),\n",
        "                          layers.Dense(256, activation='relu'),\n",
        "                          layers.Dropout(0.2),\n",
        "                          layers.Dense(256, activation='relu'),\n",
        "                          layers.Dropout(0.2),\n",
        "                          layers.Dense(1)])"
      ],
      "execution_count": null,
      "outputs": []
    },
    {
      "cell_type": "code",
      "metadata": {
        "id": "9J1CrGmaoVqW",
        "colab": {
          "base_uri": "https://localhost:8080/",
          "height": 454
        },
        "outputId": "7229a0ad-93d5-4d6c-a6bf-f7b7c384188e"
      },
      "source": [
        "model.summary()"
      ],
      "execution_count": null,
      "outputs": [
        {
          "output_type": "stream",
          "text": [
            "Model: \"sequential_9\"\n",
            "_________________________________________________________________\n",
            "Layer (type)                 Output Shape              Param #   \n",
            "=================================================================\n",
            "dense_41 (Dense)             (None, 256)               2560      \n",
            "_________________________________________________________________\n",
            "dropout_12 (Dropout)         (None, 256)               0         \n",
            "_________________________________________________________________\n",
            "dense_42 (Dense)             (None, 256)               65792     \n",
            "_________________________________________________________________\n",
            "dropout_13 (Dropout)         (None, 256)               0         \n",
            "_________________________________________________________________\n",
            "dense_43 (Dense)             (None, 256)               65792     \n",
            "_________________________________________________________________\n",
            "dropout_14 (Dropout)         (None, 256)               0         \n",
            "_________________________________________________________________\n",
            "dense_44 (Dense)             (None, 256)               65792     \n",
            "_________________________________________________________________\n",
            "dropout_15 (Dropout)         (None, 256)               0         \n",
            "_________________________________________________________________\n",
            "dense_45 (Dense)             (None, 1)                 257       \n",
            "=================================================================\n",
            "Total params: 200,193\n",
            "Trainable params: 200,193\n",
            "Non-trainable params: 0\n",
            "_________________________________________________________________\n"
          ],
          "name": "stdout"
        }
      ]
    },
    {
      "cell_type": "code",
      "metadata": {
        "id": "NxqFfT-FoVqZ"
      },
      "source": [
        "# Defining the optimizer with a specific learning rate of 0.001\n",
        "optimizer = tf.keras.optimizers.RMSprop(0.001)\n",
        "\n",
        "# Compiling the model\n",
        "model.compile(loss='mse', optimizer=optimizer, metrics=['mae', 'mse'])"
      ],
      "execution_count": null,
      "outputs": []
    },
    {
      "cell_type": "code",
      "metadata": {
        "id": "FX1dimQPoVqb",
        "colab": {
          "base_uri": "https://localhost:8080/",
          "height": 67
        },
        "outputId": "29794d2d-0aad-4052-fc83-07c9faeb99bc"
      },
      "source": [
        "history_dropout = model.fit(normed_train_data, train_labels, epochs=100, validation_split=0.2,\n",
        "                          verbose=0, callbacks=[tfdocs.modeling.EpochDots()])"
      ],
      "execution_count": null,
      "outputs": [
        {
          "output_type": "stream",
          "text": [
            "\n",
            "Epoch: 0, loss:261.3717,  mae:13.0148,  mse:261.3717,  val_loss:54.9459,  val_mae:6.3947,  val_mse:54.9459,  \n",
            "...................................................................................................."
          ],
          "name": "stdout"
        }
      ]
    },
    {
      "cell_type": "code",
      "metadata": {
        "id": "RFNh8apZoVqd",
        "colab": {
          "base_uri": "https://localhost:8080/",
          "height": 195
        },
        "outputId": "8eca3608-8edf-4c50-b808-c33648988344"
      },
      "source": [
        "hist_dropout = pd.DataFrame(history_dropout.history)\n",
        "hist_dropout['epoch'] = history_dropout.epoch\n",
        "hist_dropout.tail()"
      ],
      "execution_count": null,
      "outputs": [
        {
          "output_type": "execute_result",
          "data": {
            "text/html": [
              "<div>\n",
              "<style scoped>\n",
              "    .dataframe tbody tr th:only-of-type {\n",
              "        vertical-align: middle;\n",
              "    }\n",
              "\n",
              "    .dataframe tbody tr th {\n",
              "        vertical-align: top;\n",
              "    }\n",
              "\n",
              "    .dataframe thead th {\n",
              "        text-align: right;\n",
              "    }\n",
              "</style>\n",
              "<table border=\"1\" class=\"dataframe\">\n",
              "  <thead>\n",
              "    <tr style=\"text-align: right;\">\n",
              "      <th></th>\n",
              "      <th>loss</th>\n",
              "      <th>mae</th>\n",
              "      <th>mse</th>\n",
              "      <th>val_loss</th>\n",
              "      <th>val_mae</th>\n",
              "      <th>val_mse</th>\n",
              "      <th>epoch</th>\n",
              "    </tr>\n",
              "  </thead>\n",
              "  <tbody>\n",
              "    <tr>\n",
              "      <th>95</th>\n",
              "      <td>13.371156</td>\n",
              "      <td>2.731506</td>\n",
              "      <td>13.371156</td>\n",
              "      <td>7.435190</td>\n",
              "      <td>2.051282</td>\n",
              "      <td>7.435190</td>\n",
              "      <td>95</td>\n",
              "    </tr>\n",
              "    <tr>\n",
              "      <th>96</th>\n",
              "      <td>13.004848</td>\n",
              "      <td>2.745411</td>\n",
              "      <td>13.004848</td>\n",
              "      <td>12.350990</td>\n",
              "      <td>2.829050</td>\n",
              "      <td>12.350990</td>\n",
              "      <td>96</td>\n",
              "    </tr>\n",
              "    <tr>\n",
              "      <th>97</th>\n",
              "      <td>19.540569</td>\n",
              "      <td>3.169657</td>\n",
              "      <td>19.540569</td>\n",
              "      <td>8.843312</td>\n",
              "      <td>2.356980</td>\n",
              "      <td>8.843312</td>\n",
              "      <td>97</td>\n",
              "    </tr>\n",
              "    <tr>\n",
              "      <th>98</th>\n",
              "      <td>11.717366</td>\n",
              "      <td>2.400953</td>\n",
              "      <td>11.717366</td>\n",
              "      <td>8.594843</td>\n",
              "      <td>2.332206</td>\n",
              "      <td>8.594843</td>\n",
              "      <td>98</td>\n",
              "    </tr>\n",
              "    <tr>\n",
              "      <th>99</th>\n",
              "      <td>17.138292</td>\n",
              "      <td>3.000023</td>\n",
              "      <td>17.138292</td>\n",
              "      <td>10.042668</td>\n",
              "      <td>2.420357</td>\n",
              "      <td>10.042668</td>\n",
              "      <td>99</td>\n",
              "    </tr>\n",
              "  </tbody>\n",
              "</table>\n",
              "</div>"
            ],
            "text/plain": [
              "         loss       mae        mse   val_loss   val_mae    val_mse  epoch\n",
              "95  13.371156  2.731506  13.371156   7.435190  2.051282   7.435190     95\n",
              "96  13.004848  2.745411  13.004848  12.350990  2.829050  12.350990     96\n",
              "97  19.540569  3.169657  19.540569   8.843312  2.356980   8.843312     97\n",
              "98  11.717366  2.400953  11.717366   8.594843  2.332206   8.594843     98\n",
              "99  17.138292  3.000023  17.138292  10.042668  2.420357  10.042668     99"
            ]
          },
          "metadata": {
            "tags": []
          },
          "execution_count": 101
        }
      ]
    },
    {
      "cell_type": "code",
      "metadata": {
        "id": "AaEiMM4YoVqg",
        "colab": {
          "base_uri": "https://localhost:8080/",
          "height": 300
        },
        "outputId": "a1ffd8ad-cb57-4fa7-e174-2fb4fa2d5534"
      },
      "source": [
        "plotter.plot({'Dropout Model': history_dropout}, metric=\"mae\")\n",
        "plt.ylim([0, 10])\n",
        "plt.ylabel('MAE [MPG]')"
      ],
      "execution_count": null,
      "outputs": [
        {
          "output_type": "execute_result",
          "data": {
            "text/plain": [
              "Text(0, 0.5, 'MAE [MPG]')"
            ]
          },
          "metadata": {
            "tags": []
          },
          "execution_count": 102
        },
        {
          "output_type": "display_data",
          "data": {
            "image/png": "[encoded data removed]",
            "text/plain": [
              "<Figure size 432x288 with 1 Axes>"
            ]
          },
          "metadata": {
            "tags": [],
            "needs_background": "light"
          }
        }
      ]
    },
    {
      "cell_type": "code",
      "metadata": {
        "id": "KBg6f1qyoVqi",
        "colab": {
          "base_uri": "https://localhost:8080/",
          "height": 50
        },
        "outputId": "ea5d1039-d706-40b1-b2d6-2d85b325e889"
      },
      "source": [
        "loss, mae, mse = model.evaluate(normed_test_data, test_labels, verbose=2)\n",
        "\n",
        "print(\"Testing set Mean Abs Error: {:5.2f} MPG\".format(mae))"
      ],
      "execution_count": null,
      "outputs": [
        {
          "output_type": "stream",
          "text": [
            "3/3 - 0s - loss: 7.5419 - mae: 1.9651 - mse: 7.5419\n",
            "Testing set Mean Abs Error:  1.97 MPG\n"
          ],
          "name": "stdout"
        }
      ]
    },
    {
      "cell_type": "markdown",
      "metadata": {
        "id": "1ZfYZf8HoVql"
      },
      "source": [
        "- After adding the dropout the model is generalizing well on the test set.\n",
        "\n",
        "- The performance is better than the larger model."
      ]
    },
    {
      "cell_type": "markdown",
      "metadata": {
        "id": "PJG2Z7U9rjXf"
      },
      "source": [
        "<a id=section404></a>\n",
        "### 4.4 Combined L2 + Dropout"
      ]
    },
    {
      "cell_type": "markdown",
      "metadata": {
        "id": "iq12V6FMrpMq"
      },
      "source": [
        "- We can also combine both L2 regularization and Dropout in a single model."
      ]
    },
    {
      "cell_type": "code",
      "metadata": {
        "id": "yuPSrnv9spcu"
      },
      "source": [
        "from tensorflow.keras import regularizers"
      ],
      "execution_count": null,
      "outputs": []
    },
    {
      "cell_type": "code",
      "metadata": {
        "id": "5l0tGP6LsB1O"
      },
      "source": [
        "model = keras.Sequential([layers.Dense(256, activation='relu', kernel_regularizer=regularizers.l2(0.001), input_shape=[len(train_dataset.keys())]),\n",
        "                          layers.Dropout(0.2),\n",
        "                          layers.Dense(256, activation='relu', kernel_regularizer=regularizers.l2(0.001)),\n",
        "                          layers.Dropout(0.2),\n",
        "                          layers.Dense(256, activation='relu', kernel_regularizer=regularizers.l2(0.001)),\n",
        "                          layers.Dropout(0.2),\n",
        "                          layers.Dense(256, activation='relu', kernel_regularizer=regularizers.l2(0.001)),\n",
        "                          layers.Dropout(0.2),\n",
        "                          layers.Dense(1)])"
      ],
      "execution_count": null,
      "outputs": []
    },
    {
      "cell_type": "code",
      "metadata": {
        "id": "r_8K3ZeJsB1S",
        "colab": {
          "base_uri": "https://localhost:8080/",
          "height": 454
        },
        "outputId": "dcd1afe9-0ade-4af3-c3c6-ce48019aba6c"
      },
      "source": [
        "model.summary()"
      ],
      "execution_count": null,
      "outputs": [
        {
          "output_type": "stream",
          "text": [
            "Model: \"sequential_10\"\n",
            "_________________________________________________________________\n",
            "Layer (type)                 Output Shape              Param #   \n",
            "=================================================================\n",
            "dense_46 (Dense)             (None, 256)               2560      \n",
            "_________________________________________________________________\n",
            "dropout_16 (Dropout)         (None, 256)               0         \n",
            "_________________________________________________________________\n",
            "dense_47 (Dense)             (None, 256)               65792     \n",
            "_________________________________________________________________\n",
            "dropout_17 (Dropout)         (None, 256)               0         \n",
            "_________________________________________________________________\n",
            "dense_48 (Dense)             (None, 256)               65792     \n",
            "_________________________________________________________________\n",
            "dropout_18 (Dropout)         (None, 256)               0         \n",
            "_________________________________________________________________\n",
            "dense_49 (Dense)             (None, 256)               65792     \n",
            "_________________________________________________________________\n",
            "dropout_19 (Dropout)         (None, 256)               0         \n",
            "_________________________________________________________________\n",
            "dense_50 (Dense)             (None, 1)                 257       \n",
            "=================================================================\n",
            "Total params: 200,193\n",
            "Trainable params: 200,193\n",
            "Non-trainable params: 0\n",
            "_________________________________________________________________\n"
          ],
          "name": "stdout"
        }
      ]
    },
    {
      "cell_type": "code",
      "metadata": {
        "id": "ixT24N15sB1W"
      },
      "source": [
        "# Defining the optimizer with a specific learning rate of 0.001\n",
        "optimizer = tf.keras.optimizers.RMSprop(0.001)\n",
        "\n",
        "# Compiling the model\n",
        "model.compile(loss='mse', optimizer=optimizer, metrics=['mae', 'mse'])"
      ],
      "execution_count": null,
      "outputs": []
    },
    {
      "cell_type": "code",
      "metadata": {
        "id": "ukwXGeaBsB1b",
        "colab": {
          "base_uri": "https://localhost:8080/",
          "height": 67
        },
        "outputId": "e1bc9988-e8ca-4aa6-b5c2-7caf3d46c8a6"
      },
      "source": [
        "history_l2_dropout = model.fit(normed_train_data, train_labels, epochs=100, validation_split=0.2,\n",
        "                          verbose=0, callbacks=[tfdocs.modeling.EpochDots()])"
      ],
      "execution_count": null,
      "outputs": [
        {
          "output_type": "stream",
          "text": [
            "\n",
            "Epoch: 0, loss:277.3260,  mae:13.4767,  mse:276.5412,  val_loss:36.1759,  val_mae:5.0721,  val_mse:35.3930,  \n",
            "...................................................................................................."
          ],
          "name": "stdout"
        }
      ]
    },
    {
      "cell_type": "code",
      "metadata": {
        "id": "25SnQ-RdsB1d",
        "colab": {
          "base_uri": "https://localhost:8080/",
          "height": 195
        },
        "outputId": "39041f8c-e79b-4810-8e53-1294d1b1980b"
      },
      "source": [
        "hist_l2_dropout = pd.DataFrame(history_l2_dropout.history)\n",
        "hist_l2_dropout['epoch'] = history_l2_dropout.epoch\n",
        "hist_l2_dropout.tail()"
      ],
      "execution_count": null,
      "outputs": [
        {
          "output_type": "execute_result",
          "data": {
            "text/html": [
              "<div>\n",
              "<style scoped>\n",
              "    .dataframe tbody tr th:only-of-type {\n",
              "        vertical-align: middle;\n",
              "    }\n",
              "\n",
              "    .dataframe tbody tr th {\n",
              "        vertical-align: top;\n",
              "    }\n",
              "\n",
              "    .dataframe thead th {\n",
              "        text-align: right;\n",
              "    }\n",
              "</style>\n",
              "<table border=\"1\" class=\"dataframe\">\n",
              "  <thead>\n",
              "    <tr style=\"text-align: right;\">\n",
              "      <th></th>\n",
              "      <th>loss</th>\n",
              "      <th>mae</th>\n",
              "      <th>mse</th>\n",
              "      <th>val_loss</th>\n",
              "      <th>val_mae</th>\n",
              "      <th>val_mse</th>\n",
              "      <th>epoch</th>\n",
              "    </tr>\n",
              "  </thead>\n",
              "  <tbody>\n",
              "    <tr>\n",
              "      <th>95</th>\n",
              "      <td>14.519838</td>\n",
              "      <td>2.846194</td>\n",
              "      <td>13.993567</td>\n",
              "      <td>9.188333</td>\n",
              "      <td>2.283489</td>\n",
              "      <td>8.662151</td>\n",
              "      <td>95</td>\n",
              "    </tr>\n",
              "    <tr>\n",
              "      <th>96</th>\n",
              "      <td>17.737673</td>\n",
              "      <td>3.080981</td>\n",
              "      <td>17.212132</td>\n",
              "      <td>12.083693</td>\n",
              "      <td>2.581887</td>\n",
              "      <td>11.556751</td>\n",
              "      <td>96</td>\n",
              "    </tr>\n",
              "    <tr>\n",
              "      <th>97</th>\n",
              "      <td>14.831047</td>\n",
              "      <td>2.697509</td>\n",
              "      <td>14.305573</td>\n",
              "      <td>13.342816</td>\n",
              "      <td>2.588649</td>\n",
              "      <td>12.815903</td>\n",
              "      <td>97</td>\n",
              "    </tr>\n",
              "    <tr>\n",
              "      <th>98</th>\n",
              "      <td>14.178879</td>\n",
              "      <td>2.727585</td>\n",
              "      <td>13.653602</td>\n",
              "      <td>16.383785</td>\n",
              "      <td>3.271129</td>\n",
              "      <td>15.859987</td>\n",
              "      <td>98</td>\n",
              "    </tr>\n",
              "    <tr>\n",
              "      <th>99</th>\n",
              "      <td>19.197338</td>\n",
              "      <td>3.273074</td>\n",
              "      <td>18.672829</td>\n",
              "      <td>9.406791</td>\n",
              "      <td>2.448029</td>\n",
              "      <td>8.882733</td>\n",
              "      <td>99</td>\n",
              "    </tr>\n",
              "  </tbody>\n",
              "</table>\n",
              "</div>"
            ],
            "text/plain": [
              "         loss       mae        mse   val_loss   val_mae    val_mse  epoch\n",
              "95  14.519838  2.846194  13.993567   9.188333  2.283489   8.662151     95\n",
              "96  17.737673  3.080981  17.212132  12.083693  2.581887  11.556751     96\n",
              "97  14.831047  2.697509  14.305573  13.342816  2.588649  12.815903     97\n",
              "98  14.178879  2.727585  13.653602  16.383785  3.271129  15.859987     98\n",
              "99  19.197338  3.273074  18.672829   9.406791  2.448029   8.882733     99"
            ]
          },
          "metadata": {
            "tags": []
          },
          "execution_count": 108
        }
      ]
    },
    {
      "cell_type": "code",
      "metadata": {
        "id": "qQuKnCV6sB1g",
        "colab": {
          "base_uri": "https://localhost:8080/",
          "height": 300
        },
        "outputId": "53ed7dfa-2ed4-419d-c067-482abeaba3a6"
      },
      "source": [
        "plotter.plot({'L2 + Dropout Model': history_l2_dropout}, metric=\"mae\")\n",
        "plt.ylim([0, 10])\n",
        "plt.ylabel('MAE [MPG]')"
      ],
      "execution_count": null,
      "outputs": [
        {
          "output_type": "execute_result",
          "data": {
            "text/plain": [
              "Text(0, 0.5, 'MAE [MPG]')"
            ]
          },
          "metadata": {
            "tags": []
          },
          "execution_count": 109
        },
        {
          "output_type": "display_data",
          "data": {
            "image/png": "[encoded data removed]",
            "text/plain": [
              "<Figure size 432x288 with 1 Axes>"
            ]
          },
          "metadata": {
            "tags": [],
            "needs_background": "light"
          }
        }
      ]
    },
    {
      "cell_type": "code",
      "metadata": {
        "id": "1-v5wXeLsB1j",
        "colab": {
          "base_uri": "https://localhost:8080/",
          "height": 50
        },
        "outputId": "f1b06546-ea58-4e63-cf47-c08559353a40"
      },
      "source": [
        "loss, mae, mse = model.evaluate(normed_test_data, test_labels, verbose=2)\n",
        "\n",
        "print(\"Testing set Mean Abs Error: {:5.2f} MPG\".format(mae))"
      ],
      "execution_count": null,
      "outputs": [
        {
          "output_type": "stream",
          "text": [
            "3/3 - 0s - loss: 7.1532 - mae: 2.0314 - mse: 6.6292\n",
            "Testing set Mean Abs Error:  2.03 MPG\n"
          ],
          "name": "stdout"
        }
      ]
    },
    {
      "cell_type": "markdown",
      "metadata": {
        "id": "tNui1VYwsB1l"
      },
      "source": [
        "- The combined L2 + Dropout model is also outperforming the larger model.\n",
        "\n",
        "- We can attain a better score if we apply the Early Stopping callback to this model."
      ]
    },
    {
      "cell_type": "markdown",
      "metadata": {
        "id": "LakhW-FJJknp"
      },
      "source": [
        "<a id=section405></a>\n",
        "### 4.5 Batch Normalization"
      ]
    },
    {
      "cell_type": "markdown",
      "metadata": {
        "id": "6sE1VR5qJ1sy"
      },
      "source": [
        "- Batch normalization is a technique for training very deep neural networks.\n",
        "\n",
        "    - It **normalizes** the **activations** of the previous layer at each batch.\n",
        "\n",
        "    - It applies a transformation that maintains the mean activation close to 0 and the activation standard deviation close to 1.\n",
        "\n",
        "- This has the effect of stabilizing the learning process and dramatically reducing the number of training epochs required to train deep networks."
      ]
    },
    {
      "cell_type": "markdown",
      "metadata": {
        "id": "a4tJFLNixvmc"
      },
      "source": [
        "- Batch normalization may be used on the inputs to the layer before or after the activation function in the previous layer.\n",
        "\n",
        "- It may be more appropriate **after** the activation function for **s-shaped** functions like the **hyperbolic tangent** and **logistic** function.\n",
        "\n",
        "- It may be more appropriate **before** the activation function for activations that may result in **non-Gaussian** distributions like the **rectified linear** activation function, the modern default for most network types."
      ]
    },
    {
      "cell_type": "markdown",
      "metadata": {
        "id": "vLiKHADAzSYr"
      },
      "source": [
        "- Since we are using **ReLU** activation function in our model, we will use the Batch Normalization layer **prior** to the ReLU layer."
      ]
    },
    {
      "cell_type": "code",
      "metadata": {
        "id": "nR1ke4p4u2gf"
      },
      "source": [
        "model = keras.Sequential([layers.Dense(256, input_shape=[len(train_dataset.keys())]),\n",
        "                          layers.BatchNormalization(),\n",
        "                          layers.ReLU(),\n",
        "                          layers.Dense(256),\n",
        "                          layers.BatchNormalization(),\n",
        "                          layers.ReLU(),\n",
        "                          layers.Dense(256),\n",
        "                          layers.BatchNormalization(),\n",
        "                          layers.ReLU(),\n",
        "                          layers.Dense(256),\n",
        "                          layers.BatchNormalization(),\n",
        "                          layers.ReLU(),\n",
        "                          layers.Dense(1)])"
      ],
      "execution_count": null,
      "outputs": []
    },
    {
      "cell_type": "code",
      "metadata": {
        "id": "U1hNrhqju2gn",
        "colab": {
          "base_uri": "https://localhost:8080/",
          "height": 588
        },
        "outputId": "3eb501b4-3258-40ee-b09d-541192466e88"
      },
      "source": [
        "model.summary()"
      ],
      "execution_count": null,
      "outputs": [
        {
          "output_type": "stream",
          "text": [
            "Model: \"sequential_13\"\n",
            "_________________________________________________________________\n",
            "Layer (type)                 Output Shape              Param #   \n",
            "=================================================================\n",
            "dense_61 (Dense)             (None, 256)               2560      \n",
            "_________________________________________________________________\n",
            "batch_normalization_6 (Batch (None, 256)               1024      \n",
            "_________________________________________________________________\n",
            "re_lu (ReLU)                 (None, 256)               0         \n",
            "_________________________________________________________________\n",
            "dense_62 (Dense)             (None, 256)               65792     \n",
            "_________________________________________________________________\n",
            "batch_normalization_7 (Batch (None, 256)               1024      \n",
            "_________________________________________________________________\n",
            "re_lu_1 (ReLU)               (None, 256)               0         \n",
            "_________________________________________________________________\n",
            "dense_63 (Dense)             (None, 256)               65792     \n",
            "_________________________________________________________________\n",
            "batch_normalization_8 (Batch (None, 256)               1024      \n",
            "_________________________________________________________________\n",
            "re_lu_2 (ReLU)               (None, 256)               0         \n",
            "_________________________________________________________________\n",
            "dense_64 (Dense)             (None, 256)               65792     \n",
            "_________________________________________________________________\n",
            "batch_normalization_9 (Batch (None, 256)               1024      \n",
            "_________________________________________________________________\n",
            "re_lu_3 (ReLU)               (None, 256)               0         \n",
            "_________________________________________________________________\n",
            "dense_65 (Dense)             (None, 1)                 257       \n",
            "=================================================================\n",
            "Total params: 204,289\n",
            "Trainable params: 202,241\n",
            "Non-trainable params: 2,048\n",
            "_________________________________________________________________\n"
          ],
          "name": "stdout"
        }
      ]
    },
    {
      "cell_type": "code",
      "metadata": {
        "id": "FRtcyl_0u2gx"
      },
      "source": [
        "# Defining the optimizer with a specific learning rate of 0.001\n",
        "optimizer = tf.keras.optimizers.RMSprop(0.001)\n",
        "\n",
        "# Compiling the model\n",
        "model.compile(loss='mse', optimizer=optimizer, metrics=['mae', 'mse'])"
      ],
      "execution_count": null,
      "outputs": []
    },
    {
      "cell_type": "code",
      "metadata": {
        "id": "Cr-oPvWru2g2",
        "colab": {
          "base_uri": "https://localhost:8080/",
          "height": 67
        },
        "outputId": "e1079715-b47e-4aea-e46c-5caa3cbe6e84"
      },
      "source": [
        "history_batch_norm = model.fit(normed_train_data, train_labels, epochs=100, validation_split=0.2,\n",
        "                          verbose=0, callbacks=[tfdocs.modeling.EpochDots()])"
      ],
      "execution_count": null,
      "outputs": [
        {
          "output_type": "stream",
          "text": [
            "\n",
            "Epoch: 0, loss:512.3126,  mae:22.0897,  mse:512.3126,  val_loss:583.1364,  val_mae:23.1268,  val_mse:583.1364,  \n",
            "...................................................................................................."
          ],
          "name": "stdout"
        }
      ]
    },
    {
      "cell_type": "code",
      "metadata": {
        "id": "b4SQpMuSu2g8",
        "colab": {
          "base_uri": "https://localhost:8080/",
          "height": 195
        },
        "outputId": "3167ee52-8f48-4cbd-aac3-1752c98efba8"
      },
      "source": [
        "hist_batch_norm = pd.DataFrame(history_batch_norm.history)\n",
        "hist_batch_norm['epoch'] = history_batch_norm.epoch\n",
        "hist_batch_norm.tail()"
      ],
      "execution_count": null,
      "outputs": [
        {
          "output_type": "execute_result",
          "data": {
            "text/html": [
              "<div>\n",
              "<style scoped>\n",
              "    .dataframe tbody tr th:only-of-type {\n",
              "        vertical-align: middle;\n",
              "    }\n",
              "\n",
              "    .dataframe tbody tr th {\n",
              "        vertical-align: top;\n",
              "    }\n",
              "\n",
              "    .dataframe thead th {\n",
              "        text-align: right;\n",
              "    }\n",
              "</style>\n",
              "<table border=\"1\" class=\"dataframe\">\n",
              "  <thead>\n",
              "    <tr style=\"text-align: right;\">\n",
              "      <th></th>\n",
              "      <th>loss</th>\n",
              "      <th>mae</th>\n",
              "      <th>mse</th>\n",
              "      <th>val_loss</th>\n",
              "      <th>val_mae</th>\n",
              "      <th>val_mse</th>\n",
              "      <th>epoch</th>\n",
              "    </tr>\n",
              "  </thead>\n",
              "  <tbody>\n",
              "    <tr>\n",
              "      <th>95</th>\n",
              "      <td>5.870254</td>\n",
              "      <td>1.805393</td>\n",
              "      <td>5.870254</td>\n",
              "      <td>7.480476</td>\n",
              "      <td>2.097130</td>\n",
              "      <td>7.480476</td>\n",
              "      <td>95</td>\n",
              "    </tr>\n",
              "    <tr>\n",
              "      <th>96</th>\n",
              "      <td>5.060385</td>\n",
              "      <td>1.709868</td>\n",
              "      <td>5.060385</td>\n",
              "      <td>8.596467</td>\n",
              "      <td>2.329535</td>\n",
              "      <td>8.596467</td>\n",
              "      <td>96</td>\n",
              "    </tr>\n",
              "    <tr>\n",
              "      <th>97</th>\n",
              "      <td>6.858043</td>\n",
              "      <td>1.952120</td>\n",
              "      <td>6.858043</td>\n",
              "      <td>10.327602</td>\n",
              "      <td>2.490928</td>\n",
              "      <td>10.327602</td>\n",
              "      <td>97</td>\n",
              "    </tr>\n",
              "    <tr>\n",
              "      <th>98</th>\n",
              "      <td>4.588964</td>\n",
              "      <td>1.554204</td>\n",
              "      <td>4.588964</td>\n",
              "      <td>8.605907</td>\n",
              "      <td>2.297268</td>\n",
              "      <td>8.605907</td>\n",
              "      <td>98</td>\n",
              "    </tr>\n",
              "    <tr>\n",
              "      <th>99</th>\n",
              "      <td>5.059868</td>\n",
              "      <td>1.620360</td>\n",
              "      <td>5.059868</td>\n",
              "      <td>7.256053</td>\n",
              "      <td>2.096903</td>\n",
              "      <td>7.256053</td>\n",
              "      <td>99</td>\n",
              "    </tr>\n",
              "  </tbody>\n",
              "</table>\n",
              "</div>"
            ],
            "text/plain": [
              "        loss       mae       mse   val_loss   val_mae    val_mse  epoch\n",
              "95  5.870254  1.805393  5.870254   7.480476  2.097130   7.480476     95\n",
              "96  5.060385  1.709868  5.060385   8.596467  2.329535   8.596467     96\n",
              "97  6.858043  1.952120  6.858043  10.327602  2.490928  10.327602     97\n",
              "98  4.588964  1.554204  4.588964   8.605907  2.297268   8.605907     98\n",
              "99  5.059868  1.620360  5.059868   7.256053  2.096903   7.256053     99"
            ]
          },
          "metadata": {
            "tags": []
          },
          "execution_count": 132
        }
      ]
    },
    {
      "cell_type": "code",
      "metadata": {
        "id": "EDbr0Mw9u2hD",
        "colab": {
          "base_uri": "https://localhost:8080/",
          "height": 300
        },
        "outputId": "c15e7bb2-eb44-42f1-cebf-8828e3649f0e"
      },
      "source": [
        "plotter.plot({'Batch Normalization Model': history_batch_norm}, metric=\"mae\")\n",
        "plt.ylim([0, 10])\n",
        "plt.ylabel('MAE [MPG]')"
      ],
      "execution_count": null,
      "outputs": [
        {
          "output_type": "execute_result",
          "data": {
            "text/plain": [
              "Text(0, 0.5, 'MAE [MPG]')"
            ]
          },
          "metadata": {
            "tags": []
          },
          "execution_count": 133
        },
        {
          "output_type": "display_data",
          "data": {
            "image/png": "[encoded data removed]",
            "text/plain": [
              "<Figure size 432x288 with 1 Axes>"
            ]
          },
          "metadata": {
            "tags": [],
            "needs_background": "light"
          }
        }
      ]
    },
    {
      "cell_type": "code",
      "metadata": {
        "id": "-85In5bfu2hO",
        "colab": {
          "base_uri": "https://localhost:8080/",
          "height": 50
        },
        "outputId": "57928335-1773-4171-c10f-7e1ec590fb12"
      },
      "source": [
        "loss, mae, mse = model.evaluate(normed_test_data, test_labels, verbose=2)\n",
        "\n",
        "print(\"Testing set Mean Abs Error: {:5.2f} MPG\".format(mae))"
      ],
      "execution_count": null,
      "outputs": [
        {
          "output_type": "stream",
          "text": [
            "3/3 - 0s - loss: 4.6668 - mae: 1.6738 - mse: 4.6668\n",
            "Testing set Mean Abs Error:  1.67 MPG\n"
          ],
          "name": "stdout"
        }
      ]
    },
    {
      "cell_type": "markdown",
      "metadata": {
        "id": "qQY3hNH3u2hV"
      },
      "source": [
        "- The Batch Normalization model attains the **lowest test set error**.\n",
        "\n",
        "- We have significantly **reduced** the **overfitting**.\n",
        "\n",
        "- It is generalizing well on the test set."
      ]
    },
    {
      "cell_type": "markdown",
      "metadata": {
        "id": "ReIkODlW1H3Q"
      },
      "source": [
        "- We can also incorporate the Early Stopping callback to this model to stop training at an appropriate epoch."
      ]
    },
    {
      "cell_type": "markdown",
      "metadata": {
        "id": "vgGQuV-yqYZH"
      },
      "source": [
        "<a id=section5></a>\n",
        "## 5. Conclusion\n",
        "\n",
        "We studied a few techniques to handle a regression problem.\n",
        "\n",
        "- **Mean Squared Error** (MSE) is a common loss function used for regression problems (different loss functions are used for classification problems).\n",
        "\n",
        "- Similarly, evaluation metrics used for regression differ from classification.\n",
        "\n",
        "  - A common regression metric is **Mean Absolute Error** (MAE).\n",
        "\n",
        "- When numeric input data features have values with different ranges, each **feature** should be **scaled** independently to the same range.\n",
        "\n",
        "- If there is not much training data, one technique is to prefer a **small network** with few hidden layers to avoid overfitting.\n",
        "\n",
        "- **Early stopping** is a useful technique to prevent overfitting.\n",
        "\n",
        "- We can improve the performance of a model by increasing the number of hidden layers and the hidden units in the model.\n",
        "\n",
        "- Regularization Techniques to reduce overfitting are:\n",
        "\n",
        "  - **Weight Regularization**\n",
        "\n",
        "  - **Dropout**\n",
        "\n",
        "  - **Batch Normalization**"
      ]
    }
  ]
}